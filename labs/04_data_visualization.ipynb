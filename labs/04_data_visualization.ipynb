{
 "cells": [
  {
   "cell_type": "markdown",
   "metadata": {},
   "source": [
    "<br> Radley Ciego </br>\n",
    "<br> GTECH 78518: Environmental Data Science </br>\n",
    "<br> October 25, 2022 </br>\n",
    "<br> Homework #4 </br>"
   ]
  },
  {
   "cell_type": "code",
   "execution_count": 2,
   "metadata": {},
   "outputs": [],
   "source": [
    "import pandas as pd\n",
    "import matplotlib.pyplot as plt"
   ]
  },
  {
   "cell_type": "code",
   "execution_count": 3,
   "metadata": {},
   "outputs": [
    {
     "name": "stderr",
     "output_type": "stream",
     "text": [
      "/var/folders/ff/9n9lg70d5d79jcc1pfmzhbsc0000gn/T/ipykernel_2174/223033372.py:3: DtypeWarning: Columns (37) have mixed types. Specify dtype option on import or set low_memory=False.\n",
      "  tree05 = pd.read_csv('http://www.geography.hunter.cuny.edu/~wenge/EDS2022F/data/NYCtree/2005_Street_Tree_Census.csv')\n"
     ]
    }
   ],
   "source": [
    "# Read the tree census data\n",
    "tree15 = pd.read_csv('http://www.geography.hunter.cuny.edu/~wenge/EDS2022F/data/NYCtree/2015_Street_Tree_Census.csv')\n",
    "tree05 = pd.read_csv('http://www.geography.hunter.cuny.edu/~wenge/EDS2022F/data/NYCtree/2005_Street_Tree_Census.csv')\n",
    "tree95 = pd.read_csv('http://www.geography.hunter.cuny.edu/~wenge/EDS2022F/data/NYCtree/1995_Street_Tree_Census.csv')"
   ]
  },
  {
   "cell_type": "code",
   "execution_count": 4,
   "metadata": {},
   "outputs": [
    {
     "data": {
      "text/plain": [
       "OBJECTID          int64\n",
       "cen_year          int64\n",
       "tree_dbh          int64\n",
       "address          object\n",
       "tree_loc         object\n",
       "pit_type         object\n",
       "soil_lvl         object\n",
       "status           object\n",
       "spc_latin        object\n",
       "spc_common       object\n",
       "vert_other       object\n",
       "vert_pgrd        object\n",
       "vert_tgrd        object\n",
       "vert_wall        object\n",
       "horz_blck        object\n",
       "horz_grate       object\n",
       "horz_plant       object\n",
       "horz_other       object\n",
       "sidw_crack       object\n",
       "sidw_raise       object\n",
       "wire_htap        object\n",
       "wire_prime       object\n",
       "wire_2nd         object\n",
       "wire_other       object\n",
       "inf_canopy       object\n",
       "inf_guard        object\n",
       "inf_wires        object\n",
       "inf_paving       object\n",
       "inf_outlet       object\n",
       "inf_shoes        object\n",
       "inf_lights       object\n",
       "inf_other        object\n",
       "trunk_dmg        object\n",
       "zipcode           int64\n",
       "zip_city         object\n",
       "cb_num            int64\n",
       "borocode          int64\n",
       "boroname         object\n",
       "cncldist          int64\n",
       "st_assem          int64\n",
       "st_senate         int64\n",
       "nta              object\n",
       "nta_name         object\n",
       "boro_ct         float64\n",
       "state            object\n",
       "latitude        float64\n",
       "longitude       float64\n",
       "x_sp              int64\n",
       "y_sp              int64\n",
       "objectid_1        int64\n",
       "census tract    float64\n",
       "bin             float64\n",
       "bbl             float64\n",
       "Location 1       object\n",
       "dtype: object"
      ]
     },
     "execution_count": 4,
     "metadata": {},
     "output_type": "execute_result"
    }
   ],
   "source": [
    "# View data type for each column\n",
    "tree05.dtypes"
   ]
  },
  {
   "cell_type": "markdown",
   "metadata": {},
   "source": [
    "### Question 1: How many trees in each borough for years 2015, 2005, 1995?"
   ]
  },
  {
   "cell_type": "code",
   "execution_count": 5,
   "metadata": {},
   "outputs": [
    {
     "data": {
      "text/plain": [
       "borough\n",
       "Bronx             85203\n",
       "Brooklyn         177293\n",
       "Manhattan         65423\n",
       "Queens           250551\n",
       "Staten Island    105318\n",
       "Name: tree_id, dtype: int64"
      ]
     },
     "execution_count": 5,
     "metadata": {},
     "output_type": "execute_result"
    }
   ],
   "source": [
    "tree15.groupby(['borough'])['tree_id'].count()"
   ]
  },
  {
   "cell_type": "code",
   "execution_count": 6,
   "metadata": {},
   "outputs": [
    {
     "data": {
      "text/plain": [
       "boroname\n",
       "5             84468\n",
       "5             15233\n",
       "Bronx         59925\n",
       "Brooklyn     142852\n",
       "Manhattan     49886\n",
       "Queens       240008\n",
       "Name: OBJECTID, dtype: int64"
      ]
     },
     "execution_count": 6,
     "metadata": {},
     "output_type": "execute_result"
    }
   ],
   "source": [
    "tree05.groupby(['boroname'])['OBJECTID'].count()"
   ]
  },
  {
   "cell_type": "code",
   "execution_count": 7,
   "metadata": {},
   "outputs": [
    {
     "data": {
      "text/plain": [
       "Borough\n",
       "Bronx             48487\n",
       "Brooklyn         117101\n",
       "Manhattan         47215\n",
       "Queens           227552\n",
       "Staten Island     76634\n",
       "Name: RecordId, dtype: int64"
      ]
     },
     "execution_count": 7,
     "metadata": {},
     "output_type": "execute_result"
    }
   ],
   "source": [
    "tree95.groupby(['Borough'])['RecordId'].count()"
   ]
  },
  {
   "cell_type": "markdown",
   "metadata": {},
   "source": [
    "### Question 2: Identify the number of tree species and the corresponding tree count for each species"
   ]
  },
  {
   "cell_type": "code",
   "execution_count": 8,
   "metadata": {},
   "outputs": [
    {
     "data": {
      "text/plain": [
       "spc_common\n",
       "'Schubert' chokecherry    4888\n",
       "American beech             273\n",
       "American elm              7975\n",
       "American hophornbeam      1081\n",
       "American hornbeam         1517\n",
       "                          ... \n",
       "weeping willow             282\n",
       "white ash                 1121\n",
       "white oak                 1686\n",
       "white pine                 202\n",
       "willow oak                3184\n",
       "Name: tree_id, Length: 132, dtype: int64"
      ]
     },
     "execution_count": 8,
     "metadata": {},
     "output_type": "execute_result"
    }
   ],
   "source": [
    "tree15.groupby(['spc_common'])['tree_id'].count()"
   ]
  }
 ],
 "metadata": {
  "kernelspec": {
   "display_name": "Python 3.9.7 ('base')",
   "language": "python",
   "name": "python3"
  },
  "language_info": {
   "codemirror_mode": {
    "name": "ipython",
    "version": 3
   },
   "file_extension": ".py",
   "mimetype": "text/x-python",
   "name": "python",
   "nbconvert_exporter": "python",
   "pygments_lexer": "ipython3",
   "version": "3.9.7"
  },
  "orig_nbformat": 4,
  "vscode": {
   "interpreter": {
    "hash": "11f7167e9fb7097b41d1b380143e3830871c5fcf1bf72bd60637d42710c8e408"
   }
  }
 },
 "nbformat": 4,
 "nbformat_minor": 2
}
