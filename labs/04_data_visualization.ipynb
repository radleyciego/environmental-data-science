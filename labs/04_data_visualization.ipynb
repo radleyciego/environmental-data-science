{
 "cells": [
  {
   "cell_type": "markdown",
   "metadata": {},
   "source": [
    "<br> Radley Ciego </br>\n",
    "<br> GTECH 78518: Environmental Data Science </br>\n",
    "<br> October 25, 2022 </br>\n",
    "<br> Homework #4 </br>"
   ]
  },
  {
   "cell_type": "code",
   "execution_count": 1,
   "metadata": {},
   "outputs": [],
   "source": [
    "import pandas as pd\n",
    "import matplotlib.pyplot as plt"
   ]
  },
  {
   "cell_type": "code",
   "execution_count": 73,
   "metadata": {},
   "outputs": [
    {
     "name": "stderr",
     "output_type": "stream",
     "text": [
      "/var/folders/ff/9n9lg70d5d79jcc1pfmzhbsc0000gn/T/ipykernel_2045/1915787275.py:3: DtypeWarning: Columns (37) have mixed types. Specify dtype option on import or set low_memory=False.\n",
      "  tree05 = pd.read_csv('http://www.geography.hunter.cuny.edu/~wenge/EDS2022F/data/NYCtree/2005_Street_Tree_Census.csv')\n"
     ]
    }
   ],
   "source": [
    "# read the tree census data\n",
    "tree15 = pd.read_csv('http://www.geography.hunter.cuny.edu/~wenge/EDS2022F/data/NYCtree/2015_Street_Tree_Census.csv')\n",
    "tree05 = pd.read_csv('http://www.geography.hunter.cuny.edu/~wenge/EDS2022F/data/NYCtree/2005_Street_Tree_Census.csv')\n",
    "tree95 = pd.read_csv('http://www.geography.hunter.cuny.edu/~wenge/EDS2022F/data/NYCtree/1995_Street_Tree_Census.csv')"
   ]
  },
  {
   "cell_type": "markdown",
   "metadata": {},
   "source": [
    "### Exploratory Data Analysis"
   ]
  },
  {
   "cell_type": "code",
   "execution_count": 82,
   "metadata": {},
   "outputs": [
    {
     "data": {
      "text/html": [
       "<div>\n",
       "<style scoped>\n",
       "    .dataframe tbody tr th:only-of-type {\n",
       "        vertical-align: middle;\n",
       "    }\n",
       "\n",
       "    .dataframe tbody tr th {\n",
       "        vertical-align: top;\n",
       "    }\n",
       "\n",
       "    .dataframe thead th {\n",
       "        text-align: right;\n",
       "    }\n",
       "</style>\n",
       "<table border=\"1\" class=\"dataframe\">\n",
       "  <thead>\n",
       "    <tr style=\"text-align: right;\">\n",
       "      <th></th>\n",
       "      <th>tree_id</th>\n",
       "      <th>borough</th>\n",
       "      <th>spc_common</th>\n",
       "      <th>spc_latin</th>\n",
       "      <th>tree_dbh</th>\n",
       "    </tr>\n",
       "  </thead>\n",
       "  <tbody>\n",
       "    <tr>\n",
       "      <th>0</th>\n",
       "      <td>180683</td>\n",
       "      <td>Queens</td>\n",
       "      <td>red maple</td>\n",
       "      <td>Acer rubrum</td>\n",
       "      <td>3</td>\n",
       "    </tr>\n",
       "    <tr>\n",
       "      <th>1</th>\n",
       "      <td>200540</td>\n",
       "      <td>Queens</td>\n",
       "      <td>pin oak</td>\n",
       "      <td>Quercus palustris</td>\n",
       "      <td>21</td>\n",
       "    </tr>\n",
       "    <tr>\n",
       "      <th>2</th>\n",
       "      <td>204026</td>\n",
       "      <td>Brooklyn</td>\n",
       "      <td>honeylocust</td>\n",
       "      <td>Gleditsia triacanthos var. inermis</td>\n",
       "      <td>3</td>\n",
       "    </tr>\n",
       "    <tr>\n",
       "      <th>3</th>\n",
       "      <td>204337</td>\n",
       "      <td>Brooklyn</td>\n",
       "      <td>honeylocust</td>\n",
       "      <td>Gleditsia triacanthos var. inermis</td>\n",
       "      <td>10</td>\n",
       "    </tr>\n",
       "    <tr>\n",
       "      <th>4</th>\n",
       "      <td>189565</td>\n",
       "      <td>Brooklyn</td>\n",
       "      <td>American linden</td>\n",
       "      <td>Tilia americana</td>\n",
       "      <td>21</td>\n",
       "    </tr>\n",
       "    <tr>\n",
       "      <th>...</th>\n",
       "      <td>...</td>\n",
       "      <td>...</td>\n",
       "      <td>...</td>\n",
       "      <td>...</td>\n",
       "      <td>...</td>\n",
       "    </tr>\n",
       "    <tr>\n",
       "      <th>683783</th>\n",
       "      <td>155433</td>\n",
       "      <td>Brooklyn</td>\n",
       "      <td>pin oak</td>\n",
       "      <td>Quercus palustris</td>\n",
       "      <td>25</td>\n",
       "    </tr>\n",
       "    <tr>\n",
       "      <th>683784</th>\n",
       "      <td>183795</td>\n",
       "      <td>Queens</td>\n",
       "      <td>Kentucky yellowwood</td>\n",
       "      <td>Cladrastis kentukea</td>\n",
       "      <td>7</td>\n",
       "    </tr>\n",
       "    <tr>\n",
       "      <th>683785</th>\n",
       "      <td>166161</td>\n",
       "      <td>Staten Island</td>\n",
       "      <td>red maple</td>\n",
       "      <td>Acer rubrum</td>\n",
       "      <td>12</td>\n",
       "    </tr>\n",
       "    <tr>\n",
       "      <th>683786</th>\n",
       "      <td>184028</td>\n",
       "      <td>Bronx</td>\n",
       "      <td>red maple</td>\n",
       "      <td>Acer rubrum</td>\n",
       "      <td>9</td>\n",
       "    </tr>\n",
       "    <tr>\n",
       "      <th>683787</th>\n",
       "      <td>200607</td>\n",
       "      <td>Queens</td>\n",
       "      <td>red maple</td>\n",
       "      <td>Acer rubrum</td>\n",
       "      <td>23</td>\n",
       "    </tr>\n",
       "  </tbody>\n",
       "</table>\n",
       "<p>683788 rows × 5 columns</p>\n",
       "</div>"
      ],
      "text/plain": [
       "        tree_id        borough           spc_common  \\\n",
       "0        180683         Queens            red maple   \n",
       "1        200540         Queens              pin oak   \n",
       "2        204026       Brooklyn          honeylocust   \n",
       "3        204337       Brooklyn          honeylocust   \n",
       "4        189565       Brooklyn      American linden   \n",
       "...         ...            ...                  ...   \n",
       "683783   155433       Brooklyn              pin oak   \n",
       "683784   183795         Queens  Kentucky yellowwood   \n",
       "683785   166161  Staten Island            red maple   \n",
       "683786   184028          Bronx            red maple   \n",
       "683787   200607         Queens            red maple   \n",
       "\n",
       "                                 spc_latin  tree_dbh  \n",
       "0                              Acer rubrum         3  \n",
       "1                        Quercus palustris        21  \n",
       "2       Gleditsia triacanthos var. inermis         3  \n",
       "3       Gleditsia triacanthos var. inermis        10  \n",
       "4                          Tilia americana        21  \n",
       "...                                    ...       ...  \n",
       "683783                   Quercus palustris        25  \n",
       "683784                 Cladrastis kentukea         7  \n",
       "683785                         Acer rubrum        12  \n",
       "683786                         Acer rubrum         9  \n",
       "683787                         Acer rubrum        23  \n",
       "\n",
       "[683788 rows x 5 columns]"
      ]
     },
     "execution_count": 82,
     "metadata": {},
     "output_type": "execute_result"
    }
   ],
   "source": [
    "# subset dataframe to include only relevant columns\n",
    "tree15 = tree15[['tree_id','borough','spc_common','spc_latin','tree_dbh']]\n",
    "tree15"
   ]
  },
  {
   "cell_type": "code",
   "execution_count": 83,
   "metadata": {},
   "outputs": [
    {
     "data": {
      "text/html": [
       "<div>\n",
       "<style scoped>\n",
       "    .dataframe tbody tr th:only-of-type {\n",
       "        vertical-align: middle;\n",
       "    }\n",
       "\n",
       "    .dataframe tbody tr th {\n",
       "        vertical-align: top;\n",
       "    }\n",
       "\n",
       "    .dataframe thead th {\n",
       "        text-align: right;\n",
       "    }\n",
       "</style>\n",
       "<table border=\"1\" class=\"dataframe\">\n",
       "  <thead>\n",
       "    <tr style=\"text-align: right;\">\n",
       "      <th></th>\n",
       "      <th>OBJECTID</th>\n",
       "      <th>boroname</th>\n",
       "      <th>spc_common</th>\n",
       "      <th>spc_latin</th>\n",
       "      <th>tree_dbh</th>\n",
       "    </tr>\n",
       "  </thead>\n",
       "  <tbody>\n",
       "    <tr>\n",
       "      <th>0</th>\n",
       "      <td>592373</td>\n",
       "      <td>Brooklyn</td>\n",
       "      <td>PEAR, CALLERY</td>\n",
       "      <td>PYRUS CALLERYANA</td>\n",
       "      <td>6</td>\n",
       "    </tr>\n",
       "    <tr>\n",
       "      <th>1</th>\n",
       "      <td>592374</td>\n",
       "      <td>Brooklyn</td>\n",
       "      <td>LONDON PLANETREE</td>\n",
       "      <td>PLATANUS ACERIFOLIA</td>\n",
       "      <td>6</td>\n",
       "    </tr>\n",
       "    <tr>\n",
       "      <th>2</th>\n",
       "      <td>592375</td>\n",
       "      <td>Brooklyn</td>\n",
       "      <td>MAPLE, NORWAY-CR KNG</td>\n",
       "      <td>ACER PLATANOIDES          CRIMSON KING</td>\n",
       "      <td>13</td>\n",
       "    </tr>\n",
       "    <tr>\n",
       "      <th>3</th>\n",
       "      <td>592376</td>\n",
       "      <td>Brooklyn</td>\n",
       "      <td>LONDON PLANETREE</td>\n",
       "      <td>PLATANUS ACERIFOLIA</td>\n",
       "      <td>13</td>\n",
       "    </tr>\n",
       "    <tr>\n",
       "      <th>4</th>\n",
       "      <td>592377</td>\n",
       "      <td>Brooklyn</td>\n",
       "      <td>LONDON PLANETREE</td>\n",
       "      <td>PLATANUS ACERIFOLIA</td>\n",
       "      <td>15</td>\n",
       "    </tr>\n",
       "    <tr>\n",
       "      <th>...</th>\n",
       "      <td>...</td>\n",
       "      <td>...</td>\n",
       "      <td>...</td>\n",
       "      <td>...</td>\n",
       "      <td>...</td>\n",
       "    </tr>\n",
       "    <tr>\n",
       "      <th>592367</th>\n",
       "      <td>1184740</td>\n",
       "      <td>5</td>\n",
       "      <td>LONDON PLANETREE</td>\n",
       "      <td>PLATANUS ACERIFOLIA</td>\n",
       "      <td>9</td>\n",
       "    </tr>\n",
       "    <tr>\n",
       "      <th>592368</th>\n",
       "      <td>1184741</td>\n",
       "      <td>5</td>\n",
       "      <td>MAPLE, SILVER</td>\n",
       "      <td>ACER SACCHARINUM</td>\n",
       "      <td>7</td>\n",
       "    </tr>\n",
       "    <tr>\n",
       "      <th>592369</th>\n",
       "      <td>1184742</td>\n",
       "      <td>5</td>\n",
       "      <td>MAPLE, NORWAY-CR KNG</td>\n",
       "      <td>ACER PLATANOIDES          CRIMSON KING</td>\n",
       "      <td>5</td>\n",
       "    </tr>\n",
       "    <tr>\n",
       "      <th>592370</th>\n",
       "      <td>1184743</td>\n",
       "      <td>5</td>\n",
       "      <td>MAPLE, NORWAY-CR KNG</td>\n",
       "      <td>ACER PLATANOIDES          CRIMSON KING</td>\n",
       "      <td>9</td>\n",
       "    </tr>\n",
       "    <tr>\n",
       "      <th>592371</th>\n",
       "      <td>1184744</td>\n",
       "      <td>5</td>\n",
       "      <td>MAPLE, NORWAY-CR KNG</td>\n",
       "      <td>ACER PLATANOIDES          CRIMSON KING</td>\n",
       "      <td>2</td>\n",
       "    </tr>\n",
       "  </tbody>\n",
       "</table>\n",
       "<p>592372 rows × 5 columns</p>\n",
       "</div>"
      ],
      "text/plain": [
       "        OBJECTID  boroname            spc_common  \\\n",
       "0         592373  Brooklyn         PEAR, CALLERY   \n",
       "1         592374  Brooklyn      LONDON PLANETREE   \n",
       "2         592375  Brooklyn  MAPLE, NORWAY-CR KNG   \n",
       "3         592376  Brooklyn      LONDON PLANETREE   \n",
       "4         592377  Brooklyn      LONDON PLANETREE   \n",
       "...          ...       ...                   ...   \n",
       "592367   1184740         5      LONDON PLANETREE   \n",
       "592368   1184741         5         MAPLE, SILVER   \n",
       "592369   1184742         5  MAPLE, NORWAY-CR KNG   \n",
       "592370   1184743         5  MAPLE, NORWAY-CR KNG   \n",
       "592371   1184744         5  MAPLE, NORWAY-CR KNG   \n",
       "\n",
       "                                     spc_latin  tree_dbh  \n",
       "0                             PYRUS CALLERYANA         6  \n",
       "1                          PLATANUS ACERIFOLIA         6  \n",
       "2       ACER PLATANOIDES          CRIMSON KING        13  \n",
       "3                          PLATANUS ACERIFOLIA        13  \n",
       "4                          PLATANUS ACERIFOLIA        15  \n",
       "...                                        ...       ...  \n",
       "592367                     PLATANUS ACERIFOLIA         9  \n",
       "592368                        ACER SACCHARINUM         7  \n",
       "592369  ACER PLATANOIDES          CRIMSON KING         5  \n",
       "592370  ACER PLATANOIDES          CRIMSON KING         9  \n",
       "592371  ACER PLATANOIDES          CRIMSON KING         2  \n",
       "\n",
       "[592372 rows x 5 columns]"
      ]
     },
     "execution_count": 83,
     "metadata": {},
     "output_type": "execute_result"
    }
   ],
   "source": [
    "tree05 = tree05[['OBJECTID','boroname','spc_common','spc_latin','tree_dbh']]\n",
    "tree05"
   ]
  },
  {
   "cell_type": "code",
   "execution_count": 84,
   "metadata": {},
   "outputs": [
    {
     "data": {
      "text/html": [
       "<div>\n",
       "<style scoped>\n",
       "    .dataframe tbody tr th:only-of-type {\n",
       "        vertical-align: middle;\n",
       "    }\n",
       "\n",
       "    .dataframe tbody tr th {\n",
       "        vertical-align: top;\n",
       "    }\n",
       "\n",
       "    .dataframe thead th {\n",
       "        text-align: right;\n",
       "    }\n",
       "</style>\n",
       "<table border=\"1\" class=\"dataframe\">\n",
       "  <thead>\n",
       "    <tr style=\"text-align: right;\">\n",
       "      <th></th>\n",
       "      <th>RecordId</th>\n",
       "      <th>Borough</th>\n",
       "      <th>Spc_Common</th>\n",
       "      <th>Spc_Latin</th>\n",
       "      <th>Diameter</th>\n",
       "    </tr>\n",
       "  </thead>\n",
       "  <tbody>\n",
       "    <tr>\n",
       "      <th>0</th>\n",
       "      <td>1</td>\n",
       "      <td>Manhattan</td>\n",
       "      <td>LONDON PLANETREE</td>\n",
       "      <td>PLATANUS ACERIFOLIA</td>\n",
       "      <td>8</td>\n",
       "    </tr>\n",
       "    <tr>\n",
       "      <th>1</th>\n",
       "      <td>2</td>\n",
       "      <td>Manhattan</td>\n",
       "      <td>MAPLE, NORWAY</td>\n",
       "      <td>ACER PLATANOIDES</td>\n",
       "      <td>7</td>\n",
       "    </tr>\n",
       "    <tr>\n",
       "      <th>2</th>\n",
       "      <td>3</td>\n",
       "      <td>Manhattan</td>\n",
       "      <td>MAPLE, NORWAY</td>\n",
       "      <td>ACER PLATANOIDES</td>\n",
       "      <td>6</td>\n",
       "    </tr>\n",
       "    <tr>\n",
       "      <th>3</th>\n",
       "      <td>4</td>\n",
       "      <td>Manhattan</td>\n",
       "      <td>MAPLE, NORWAY</td>\n",
       "      <td>ACER PLATANOIDES</td>\n",
       "      <td>7</td>\n",
       "    </tr>\n",
       "    <tr>\n",
       "      <th>4</th>\n",
       "      <td>5</td>\n",
       "      <td>Manhattan</td>\n",
       "      <td>MAPLE, NORWAY</td>\n",
       "      <td>ACER PLATANOIDES</td>\n",
       "      <td>6</td>\n",
       "    </tr>\n",
       "    <tr>\n",
       "      <th>...</th>\n",
       "      <td>...</td>\n",
       "      <td>...</td>\n",
       "      <td>...</td>\n",
       "      <td>...</td>\n",
       "      <td>...</td>\n",
       "    </tr>\n",
       "    <tr>\n",
       "      <th>516984</th>\n",
       "      <td>516787</td>\n",
       "      <td>Staten Island</td>\n",
       "      <td>PEAR, CALLERY</td>\n",
       "      <td>PYRUS CALLERYANA</td>\n",
       "      <td>3</td>\n",
       "    </tr>\n",
       "    <tr>\n",
       "      <th>516985</th>\n",
       "      <td>516788</td>\n",
       "      <td>Staten Island</td>\n",
       "      <td>PEAR, CALLERY</td>\n",
       "      <td>PYRUS CALLERYANA</td>\n",
       "      <td>3</td>\n",
       "    </tr>\n",
       "    <tr>\n",
       "      <th>516986</th>\n",
       "      <td>516966</td>\n",
       "      <td>Staten Island</td>\n",
       "      <td>PEAR, CALLERY</td>\n",
       "      <td>PYRUS CALLERYANA</td>\n",
       "      <td>4</td>\n",
       "    </tr>\n",
       "    <tr>\n",
       "      <th>516987</th>\n",
       "      <td>516967</td>\n",
       "      <td>Staten Island</td>\n",
       "      <td>PEAR, CALLERY</td>\n",
       "      <td>PYRUS CALLERYANA</td>\n",
       "      <td>4</td>\n",
       "    </tr>\n",
       "    <tr>\n",
       "      <th>516988</th>\n",
       "      <td>516968</td>\n",
       "      <td>Staten Island</td>\n",
       "      <td>PEAR, CALLERY</td>\n",
       "      <td>PYRUS CALLERYANA</td>\n",
       "      <td>4</td>\n",
       "    </tr>\n",
       "  </tbody>\n",
       "</table>\n",
       "<p>516989 rows × 5 columns</p>\n",
       "</div>"
      ],
      "text/plain": [
       "        RecordId        Borough        Spc_Common            Spc_Latin  \\\n",
       "0              1      Manhattan  LONDON PLANETREE  PLATANUS ACERIFOLIA   \n",
       "1              2      Manhattan     MAPLE, NORWAY     ACER PLATANOIDES   \n",
       "2              3      Manhattan     MAPLE, NORWAY     ACER PLATANOIDES   \n",
       "3              4      Manhattan     MAPLE, NORWAY     ACER PLATANOIDES   \n",
       "4              5      Manhattan     MAPLE, NORWAY     ACER PLATANOIDES   \n",
       "...          ...            ...               ...                  ...   \n",
       "516984    516787  Staten Island     PEAR, CALLERY     PYRUS CALLERYANA   \n",
       "516985    516788  Staten Island     PEAR, CALLERY     PYRUS CALLERYANA   \n",
       "516986    516966  Staten Island     PEAR, CALLERY     PYRUS CALLERYANA   \n",
       "516987    516967  Staten Island     PEAR, CALLERY     PYRUS CALLERYANA   \n",
       "516988    516968  Staten Island     PEAR, CALLERY     PYRUS CALLERYANA   \n",
       "\n",
       "        Diameter  \n",
       "0              8  \n",
       "1              7  \n",
       "2              6  \n",
       "3              7  \n",
       "4              6  \n",
       "...          ...  \n",
       "516984         3  \n",
       "516985         3  \n",
       "516986         4  \n",
       "516987         4  \n",
       "516988         4  \n",
       "\n",
       "[516989 rows x 5 columns]"
      ]
     },
     "execution_count": 84,
     "metadata": {},
     "output_type": "execute_result"
    }
   ],
   "source": [
    "tree95 = tree95[['RecordId','Borough','Spc_Common','Spc_Latin','Diameter']]\n",
    "tree95"
   ]
  },
  {
   "cell_type": "code",
   "execution_count": 85,
   "metadata": {},
   "outputs": [],
   "source": [
    "# rename columns\n",
    "tree15.columns = ['id','borough','spc_common','spc_latin','tree_dbh']"
   ]
  },
  {
   "cell_type": "code",
   "execution_count": 86,
   "metadata": {},
   "outputs": [
    {
     "data": {
      "text/html": [
       "<div>\n",
       "<style scoped>\n",
       "    .dataframe tbody tr th:only-of-type {\n",
       "        vertical-align: middle;\n",
       "    }\n",
       "\n",
       "    .dataframe tbody tr th {\n",
       "        vertical-align: top;\n",
       "    }\n",
       "\n",
       "    .dataframe thead th {\n",
       "        text-align: right;\n",
       "    }\n",
       "</style>\n",
       "<table border=\"1\" class=\"dataframe\">\n",
       "  <thead>\n",
       "    <tr style=\"text-align: right;\">\n",
       "      <th></th>\n",
       "      <th>id</th>\n",
       "      <th>borough</th>\n",
       "      <th>spc_common</th>\n",
       "      <th>spc_latin</th>\n",
       "      <th>tree_dbh</th>\n",
       "    </tr>\n",
       "  </thead>\n",
       "  <tbody>\n",
       "    <tr>\n",
       "      <th>0</th>\n",
       "      <td>592373</td>\n",
       "      <td>Brooklyn</td>\n",
       "      <td>PEAR, CALLERY</td>\n",
       "      <td>PYRUS CALLERYANA</td>\n",
       "      <td>6</td>\n",
       "    </tr>\n",
       "    <tr>\n",
       "      <th>1</th>\n",
       "      <td>592374</td>\n",
       "      <td>Brooklyn</td>\n",
       "      <td>LONDON PLANETREE</td>\n",
       "      <td>PLATANUS ACERIFOLIA</td>\n",
       "      <td>6</td>\n",
       "    </tr>\n",
       "    <tr>\n",
       "      <th>2</th>\n",
       "      <td>592375</td>\n",
       "      <td>Brooklyn</td>\n",
       "      <td>MAPLE, NORWAY-CR KNG</td>\n",
       "      <td>ACER PLATANOIDES          CRIMSON KING</td>\n",
       "      <td>13</td>\n",
       "    </tr>\n",
       "    <tr>\n",
       "      <th>3</th>\n",
       "      <td>592376</td>\n",
       "      <td>Brooklyn</td>\n",
       "      <td>LONDON PLANETREE</td>\n",
       "      <td>PLATANUS ACERIFOLIA</td>\n",
       "      <td>13</td>\n",
       "    </tr>\n",
       "    <tr>\n",
       "      <th>4</th>\n",
       "      <td>592377</td>\n",
       "      <td>Brooklyn</td>\n",
       "      <td>LONDON PLANETREE</td>\n",
       "      <td>PLATANUS ACERIFOLIA</td>\n",
       "      <td>15</td>\n",
       "    </tr>\n",
       "    <tr>\n",
       "      <th>...</th>\n",
       "      <td>...</td>\n",
       "      <td>...</td>\n",
       "      <td>...</td>\n",
       "      <td>...</td>\n",
       "      <td>...</td>\n",
       "    </tr>\n",
       "    <tr>\n",
       "      <th>592367</th>\n",
       "      <td>1184740</td>\n",
       "      <td>5</td>\n",
       "      <td>LONDON PLANETREE</td>\n",
       "      <td>PLATANUS ACERIFOLIA</td>\n",
       "      <td>9</td>\n",
       "    </tr>\n",
       "    <tr>\n",
       "      <th>592368</th>\n",
       "      <td>1184741</td>\n",
       "      <td>5</td>\n",
       "      <td>MAPLE, SILVER</td>\n",
       "      <td>ACER SACCHARINUM</td>\n",
       "      <td>7</td>\n",
       "    </tr>\n",
       "    <tr>\n",
       "      <th>592369</th>\n",
       "      <td>1184742</td>\n",
       "      <td>5</td>\n",
       "      <td>MAPLE, NORWAY-CR KNG</td>\n",
       "      <td>ACER PLATANOIDES          CRIMSON KING</td>\n",
       "      <td>5</td>\n",
       "    </tr>\n",
       "    <tr>\n",
       "      <th>592370</th>\n",
       "      <td>1184743</td>\n",
       "      <td>5</td>\n",
       "      <td>MAPLE, NORWAY-CR KNG</td>\n",
       "      <td>ACER PLATANOIDES          CRIMSON KING</td>\n",
       "      <td>9</td>\n",
       "    </tr>\n",
       "    <tr>\n",
       "      <th>592371</th>\n",
       "      <td>1184744</td>\n",
       "      <td>5</td>\n",
       "      <td>MAPLE, NORWAY-CR KNG</td>\n",
       "      <td>ACER PLATANOIDES          CRIMSON KING</td>\n",
       "      <td>2</td>\n",
       "    </tr>\n",
       "  </tbody>\n",
       "</table>\n",
       "<p>592372 rows × 5 columns</p>\n",
       "</div>"
      ],
      "text/plain": [
       "             id   borough            spc_common  \\\n",
       "0        592373  Brooklyn         PEAR, CALLERY   \n",
       "1        592374  Brooklyn      LONDON PLANETREE   \n",
       "2        592375  Brooklyn  MAPLE, NORWAY-CR KNG   \n",
       "3        592376  Brooklyn      LONDON PLANETREE   \n",
       "4        592377  Brooklyn      LONDON PLANETREE   \n",
       "...         ...       ...                   ...   \n",
       "592367  1184740         5      LONDON PLANETREE   \n",
       "592368  1184741         5         MAPLE, SILVER   \n",
       "592369  1184742         5  MAPLE, NORWAY-CR KNG   \n",
       "592370  1184743         5  MAPLE, NORWAY-CR KNG   \n",
       "592371  1184744         5  MAPLE, NORWAY-CR KNG   \n",
       "\n",
       "                                     spc_latin  tree_dbh  \n",
       "0                             PYRUS CALLERYANA         6  \n",
       "1                          PLATANUS ACERIFOLIA         6  \n",
       "2       ACER PLATANOIDES          CRIMSON KING        13  \n",
       "3                          PLATANUS ACERIFOLIA        13  \n",
       "4                          PLATANUS ACERIFOLIA        15  \n",
       "...                                        ...       ...  \n",
       "592367                     PLATANUS ACERIFOLIA         9  \n",
       "592368                        ACER SACCHARINUM         7  \n",
       "592369  ACER PLATANOIDES          CRIMSON KING         5  \n",
       "592370  ACER PLATANOIDES          CRIMSON KING         9  \n",
       "592371  ACER PLATANOIDES          CRIMSON KING         2  \n",
       "\n",
       "[592372 rows x 5 columns]"
      ]
     },
     "execution_count": 86,
     "metadata": {},
     "output_type": "execute_result"
    }
   ],
   "source": [
    "tree05.columns = ['id','borough','spc_common','spc_latin','tree_dbh']\n",
    "tree05"
   ]
  },
  {
   "cell_type": "code",
   "execution_count": 87,
   "metadata": {},
   "outputs": [],
   "source": [
    "tree95.columns = ['id','borough','spc_common','spc_latin','tree_dbh']"
   ]
  },
  {
   "cell_type": "code",
   "execution_count": 88,
   "metadata": {},
   "outputs": [
    {
     "data": {
      "text/plain": [
       "Queens           250551\n",
       "Brooklyn         177293\n",
       "Staten Island    105318\n",
       "Bronx             85203\n",
       "Manhattan         65423\n",
       "Name: borough, dtype: int64"
      ]
     },
     "execution_count": 88,
     "metadata": {},
     "output_type": "execute_result"
    }
   ],
   "source": [
    "# identify the value count of the borough column\n",
    "tree15[\"borough\"].value_counts()"
   ]
  },
  {
   "cell_type": "code",
   "execution_count": 89,
   "metadata": {},
   "outputs": [
    {
     "data": {
      "text/plain": [
       "Queens       240008\n",
       "Brooklyn     142852\n",
       "5             84468\n",
       "Bronx         59925\n",
       "Manhattan     49886\n",
       "5             15233\n",
       "Name: borough, dtype: int64"
      ]
     },
     "execution_count": 89,
     "metadata": {},
     "output_type": "execute_result"
    }
   ],
   "source": [
    "tree05[\"borough\"].value_counts()"
   ]
  },
  {
   "cell_type": "code",
   "execution_count": 90,
   "metadata": {},
   "outputs": [
    {
     "data": {
      "text/plain": [
       "Queens           227552\n",
       "Brooklyn         117101\n",
       "Staten Island     76634\n",
       "Bronx             48487\n",
       "Manhattan         47215\n",
       "Name: borough, dtype: int64"
      ]
     },
     "execution_count": 90,
     "metadata": {},
     "output_type": "execute_result"
    }
   ],
   "source": [
    "tree95[\"borough\"].value_counts()"
   ]
  },
  {
   "cell_type": "code",
   "execution_count": 91,
   "metadata": {},
   "outputs": [],
   "source": [
    "# replace 5 values with Staten Island\n",
    "tree05[\"borough\"].replace({\"5\":\"Staten Island\",5:\"Staten Island\"}, inplace = True)"
   ]
  },
  {
   "cell_type": "markdown",
   "metadata": {},
   "source": [
    "### Question 1: How many trees in each borough for years 2015, 2005, 1995?"
   ]
  },
  {
   "cell_type": "code",
   "execution_count": 92,
   "metadata": {},
   "outputs": [
    {
     "data": {
      "text/plain": [
       "borough\n",
       "Bronx             85203\n",
       "Brooklyn         177293\n",
       "Manhattan         65423\n",
       "Queens           250551\n",
       "Staten Island    105318\n",
       "Name: id, dtype: int64"
      ]
     },
     "execution_count": 92,
     "metadata": {},
     "output_type": "execute_result"
    }
   ],
   "source": [
    "tree15.groupby(['borough'])['id'].count()"
   ]
  },
  {
   "cell_type": "code",
   "execution_count": 21,
   "metadata": {},
   "outputs": [
    {
     "data": {
      "text/plain": [
       "boroname\n",
       "Bronx             59925\n",
       "Brooklyn         142852\n",
       "Manhattan         49886\n",
       "Queens           240008\n",
       "Staten Island     99701\n",
       "Name: OBJECTID, dtype: int64"
      ]
     },
     "execution_count": 21,
     "metadata": {},
     "output_type": "execute_result"
    }
   ],
   "source": [
    "tree05.groupby(['borough'])['id'].count()"
   ]
  },
  {
   "cell_type": "code",
   "execution_count": 10,
   "metadata": {},
   "outputs": [
    {
     "data": {
      "text/plain": [
       "boroname\n",
       "Bronx             59925\n",
       "Brooklyn         142852\n",
       "Manhattan         49886\n",
       "Queens           240008\n",
       "Staten Island     99701\n",
       "Name: OBJECTID, dtype: int64"
      ]
     },
     "execution_count": 10,
     "metadata": {},
     "output_type": "execute_result"
    }
   ],
   "source": [
    "tree05.groupby(['borough'])['id'].count()"
   ]
  },
  {
   "cell_type": "code",
   "execution_count": 6,
   "metadata": {},
   "outputs": [
    {
     "data": {
      "text/plain": [
       "Borough\n",
       "Bronx             48487\n",
       "Brooklyn         117101\n",
       "Manhattan         47215\n",
       "Queens           227552\n",
       "Staten Island     76634\n",
       "Name: RecordId, dtype: int64"
      ]
     },
     "execution_count": 6,
     "metadata": {},
     "output_type": "execute_result"
    }
   ],
   "source": [
    "tree95.groupby(['borough'])['id'].count()"
   ]
  },
  {
   "cell_type": "markdown",
   "metadata": {},
   "source": [
    "### Question 2: Identify the number of tree species and the corresponding tree count for each species in Manhattan"
   ]
  },
  {
   "cell_type": "code",
   "execution_count": 50,
   "metadata": {},
   "outputs": [
    {
     "data": {
      "text/html": [
       "<div>\n",
       "<style scoped>\n",
       "    .dataframe tbody tr th:only-of-type {\n",
       "        vertical-align: middle;\n",
       "    }\n",
       "\n",
       "    .dataframe tbody tr th {\n",
       "        vertical-align: top;\n",
       "    }\n",
       "\n",
       "    .dataframe thead th {\n",
       "        text-align: right;\n",
       "    }\n",
       "</style>\n",
       "<table border=\"1\" class=\"dataframe\">\n",
       "  <thead>\n",
       "    <tr style=\"text-align: right;\">\n",
       "      <th></th>\n",
       "      <th>id</th>\n",
       "      <th>borough</th>\n",
       "      <th>spc_common</th>\n",
       "      <th>spc_latin</th>\n",
       "    </tr>\n",
       "  </thead>\n",
       "  <tbody>\n",
       "    <tr>\n",
       "      <th>5</th>\n",
       "      <td>190422</td>\n",
       "      <td>Manhattan</td>\n",
       "      <td>honeylocust</td>\n",
       "      <td>Gleditsia triacanthos var. inermis</td>\n",
       "    </tr>\n",
       "    <tr>\n",
       "      <th>6</th>\n",
       "      <td>190426</td>\n",
       "      <td>Manhattan</td>\n",
       "      <td>honeylocust</td>\n",
       "      <td>Gleditsia triacanthos var. inermis</td>\n",
       "    </tr>\n",
       "    <tr>\n",
       "      <th>7</th>\n",
       "      <td>208649</td>\n",
       "      <td>Manhattan</td>\n",
       "      <td>American linden</td>\n",
       "      <td>Tilia americana</td>\n",
       "    </tr>\n",
       "    <tr>\n",
       "      <th>21</th>\n",
       "      <td>193310</td>\n",
       "      <td>Manhattan</td>\n",
       "      <td>honeylocust</td>\n",
       "      <td>Gleditsia triacanthos var. inermis</td>\n",
       "    </tr>\n",
       "    <tr>\n",
       "      <th>22</th>\n",
       "      <td>199760</td>\n",
       "      <td>Manhattan</td>\n",
       "      <td>willow oak</td>\n",
       "      <td>Quercus phellos</td>\n",
       "    </tr>\n",
       "    <tr>\n",
       "      <th>...</th>\n",
       "      <td>...</td>\n",
       "      <td>...</td>\n",
       "      <td>...</td>\n",
       "      <td>...</td>\n",
       "    </tr>\n",
       "    <tr>\n",
       "      <th>683756</th>\n",
       "      <td>208765</td>\n",
       "      <td>Manhattan</td>\n",
       "      <td>honeylocust</td>\n",
       "      <td>Gleditsia triacanthos var. inermis</td>\n",
       "    </tr>\n",
       "    <tr>\n",
       "      <th>683764</th>\n",
       "      <td>170513</td>\n",
       "      <td>Manhattan</td>\n",
       "      <td>honeylocust</td>\n",
       "      <td>Gleditsia triacanthos var. inermis</td>\n",
       "    </tr>\n",
       "    <tr>\n",
       "      <th>683768</th>\n",
       "      <td>190040</td>\n",
       "      <td>Manhattan</td>\n",
       "      <td>honeylocust</td>\n",
       "      <td>Gleditsia triacanthos var. inermis</td>\n",
       "    </tr>\n",
       "    <tr>\n",
       "      <th>683773</th>\n",
       "      <td>191269</td>\n",
       "      <td>Manhattan</td>\n",
       "      <td>ginkgo</td>\n",
       "      <td>Ginkgo biloba</td>\n",
       "    </tr>\n",
       "    <tr>\n",
       "      <th>683775</th>\n",
       "      <td>192812</td>\n",
       "      <td>Manhattan</td>\n",
       "      <td>pin oak</td>\n",
       "      <td>Quercus palustris</td>\n",
       "    </tr>\n",
       "  </tbody>\n",
       "</table>\n",
       "<p>65423 rows × 4 columns</p>\n",
       "</div>"
      ],
      "text/plain": [
       "            id    borough       spc_common                           spc_latin\n",
       "5       190422  Manhattan      honeylocust  Gleditsia triacanthos var. inermis\n",
       "6       190426  Manhattan      honeylocust  Gleditsia triacanthos var. inermis\n",
       "7       208649  Manhattan  American linden                     Tilia americana\n",
       "21      193310  Manhattan      honeylocust  Gleditsia triacanthos var. inermis\n",
       "22      199760  Manhattan       willow oak                     Quercus phellos\n",
       "...        ...        ...              ...                                 ...\n",
       "683756  208765  Manhattan      honeylocust  Gleditsia triacanthos var. inermis\n",
       "683764  170513  Manhattan      honeylocust  Gleditsia triacanthos var. inermis\n",
       "683768  190040  Manhattan      honeylocust  Gleditsia triacanthos var. inermis\n",
       "683773  191269  Manhattan           ginkgo                       Ginkgo biloba\n",
       "683775  192812  Manhattan          pin oak                   Quercus palustris\n",
       "\n",
       "[65423 rows x 4 columns]"
      ]
     },
     "execution_count": 50,
     "metadata": {},
     "output_type": "execute_result"
    }
   ],
   "source": [
    "# subset dataframes for Manhattan\n",
    "m15 = tree15.loc[tree15['borough'] == 'Manhattan']\n",
    "m15"
   ]
  },
  {
   "cell_type": "code",
   "execution_count": 52,
   "metadata": {},
   "outputs": [
    {
     "data": {
      "text/html": [
       "<div>\n",
       "<style scoped>\n",
       "    .dataframe tbody tr th:only-of-type {\n",
       "        vertical-align: middle;\n",
       "    }\n",
       "\n",
       "    .dataframe tbody tr th {\n",
       "        vertical-align: top;\n",
       "    }\n",
       "\n",
       "    .dataframe thead th {\n",
       "        text-align: right;\n",
       "    }\n",
       "</style>\n",
       "<table border=\"1\" class=\"dataframe\">\n",
       "  <thead>\n",
       "    <tr style=\"text-align: right;\">\n",
       "      <th></th>\n",
       "      <th>id</th>\n",
       "      <th>borough</th>\n",
       "      <th>spc_common</th>\n",
       "      <th>spc_latin</th>\n",
       "    </tr>\n",
       "  </thead>\n",
       "  <tbody>\n",
       "    <tr>\n",
       "      <th>17</th>\n",
       "      <td>592390</td>\n",
       "      <td>Manhattan</td>\n",
       "      <td>HONEYLOCUST</td>\n",
       "      <td>GLEDITSIA TRIACANTHOS</td>\n",
       "    </tr>\n",
       "    <tr>\n",
       "      <th>18</th>\n",
       "      <td>592391</td>\n",
       "      <td>Manhattan</td>\n",
       "      <td>LINDEN, LITTLE LEAF</td>\n",
       "      <td>TILIA CORDATA</td>\n",
       "    </tr>\n",
       "    <tr>\n",
       "      <th>19</th>\n",
       "      <td>592392</td>\n",
       "      <td>Manhattan</td>\n",
       "      <td>HONEYLOCUST</td>\n",
       "      <td>GLEDITSIA TRIACANTHOS</td>\n",
       "    </tr>\n",
       "    <tr>\n",
       "      <th>20</th>\n",
       "      <td>592393</td>\n",
       "      <td>Manhattan</td>\n",
       "      <td>PEAR, CALLERY</td>\n",
       "      <td>PYRUS CALLERYANA</td>\n",
       "    </tr>\n",
       "    <tr>\n",
       "      <th>21</th>\n",
       "      <td>592394</td>\n",
       "      <td>Manhattan</td>\n",
       "      <td>PEAR, CALLERY</td>\n",
       "      <td>PYRUS CALLERYANA</td>\n",
       "    </tr>\n",
       "    <tr>\n",
       "      <th>...</th>\n",
       "      <td>...</td>\n",
       "      <td>...</td>\n",
       "      <td>...</td>\n",
       "      <td>...</td>\n",
       "    </tr>\n",
       "    <tr>\n",
       "      <th>49898</th>\n",
       "      <td>642268</td>\n",
       "      <td>Manhattan</td>\n",
       "      <td>OAK, NORTHERN RED</td>\n",
       "      <td>QUERCUS RUBRA</td>\n",
       "    </tr>\n",
       "    <tr>\n",
       "      <th>49899</th>\n",
       "      <td>642269</td>\n",
       "      <td>Manhattan</td>\n",
       "      <td>OAK, NORTHERN RED</td>\n",
       "      <td>QUERCUS RUBRA</td>\n",
       "    </tr>\n",
       "    <tr>\n",
       "      <th>49900</th>\n",
       "      <td>642270</td>\n",
       "      <td>Manhattan</td>\n",
       "      <td>HONEYLOCUST</td>\n",
       "      <td>GLEDITSIA TRIACANTHOS</td>\n",
       "    </tr>\n",
       "    <tr>\n",
       "      <th>49901</th>\n",
       "      <td>642271</td>\n",
       "      <td>Manhattan</td>\n",
       "      <td>MAPLE, AMUR</td>\n",
       "      <td>ACER GINNALA</td>\n",
       "    </tr>\n",
       "    <tr>\n",
       "      <th>49902</th>\n",
       "      <td>642272</td>\n",
       "      <td>Manhattan</td>\n",
       "      <td>GINKGO</td>\n",
       "      <td>GINKGO BILOBA</td>\n",
       "    </tr>\n",
       "  </tbody>\n",
       "</table>\n",
       "<p>49886 rows × 4 columns</p>\n",
       "</div>"
      ],
      "text/plain": [
       "           id    borough           spc_common              spc_latin\n",
       "17     592390  Manhattan          HONEYLOCUST  GLEDITSIA TRIACANTHOS\n",
       "18     592391  Manhattan  LINDEN, LITTLE LEAF          TILIA CORDATA\n",
       "19     592392  Manhattan          HONEYLOCUST  GLEDITSIA TRIACANTHOS\n",
       "20     592393  Manhattan        PEAR, CALLERY       PYRUS CALLERYANA\n",
       "21     592394  Manhattan        PEAR, CALLERY       PYRUS CALLERYANA\n",
       "...       ...        ...                  ...                    ...\n",
       "49898  642268  Manhattan    OAK, NORTHERN RED          QUERCUS RUBRA\n",
       "49899  642269  Manhattan    OAK, NORTHERN RED          QUERCUS RUBRA\n",
       "49900  642270  Manhattan          HONEYLOCUST  GLEDITSIA TRIACANTHOS\n",
       "49901  642271  Manhattan          MAPLE, AMUR           ACER GINNALA\n",
       "49902  642272  Manhattan               GINKGO          GINKGO BILOBA\n",
       "\n",
       "[49886 rows x 4 columns]"
      ]
     },
     "execution_count": 52,
     "metadata": {},
     "output_type": "execute_result"
    }
   ],
   "source": [
    "m05 = tree05.loc[tree05['borough'] == 'Manhattan']\n",
    "m05"
   ]
  },
  {
   "cell_type": "code",
   "execution_count": 53,
   "metadata": {},
   "outputs": [
    {
     "data": {
      "text/html": [
       "<div>\n",
       "<style scoped>\n",
       "    .dataframe tbody tr th:only-of-type {\n",
       "        vertical-align: middle;\n",
       "    }\n",
       "\n",
       "    .dataframe tbody tr th {\n",
       "        vertical-align: top;\n",
       "    }\n",
       "\n",
       "    .dataframe thead th {\n",
       "        text-align: right;\n",
       "    }\n",
       "</style>\n",
       "<table border=\"1\" class=\"dataframe\">\n",
       "  <thead>\n",
       "    <tr style=\"text-align: right;\">\n",
       "      <th></th>\n",
       "      <th>id</th>\n",
       "      <th>borough</th>\n",
       "      <th>spc_common</th>\n",
       "      <th>spc_latin</th>\n",
       "    </tr>\n",
       "  </thead>\n",
       "  <tbody>\n",
       "    <tr>\n",
       "      <th>0</th>\n",
       "      <td>1</td>\n",
       "      <td>Manhattan</td>\n",
       "      <td>LONDON PLANETREE</td>\n",
       "      <td>PLATANUS ACERIFOLIA</td>\n",
       "    </tr>\n",
       "    <tr>\n",
       "      <th>1</th>\n",
       "      <td>2</td>\n",
       "      <td>Manhattan</td>\n",
       "      <td>MAPLE, NORWAY</td>\n",
       "      <td>ACER PLATANOIDES</td>\n",
       "    </tr>\n",
       "    <tr>\n",
       "      <th>2</th>\n",
       "      <td>3</td>\n",
       "      <td>Manhattan</td>\n",
       "      <td>MAPLE, NORWAY</td>\n",
       "      <td>ACER PLATANOIDES</td>\n",
       "    </tr>\n",
       "    <tr>\n",
       "      <th>3</th>\n",
       "      <td>4</td>\n",
       "      <td>Manhattan</td>\n",
       "      <td>MAPLE, NORWAY</td>\n",
       "      <td>ACER PLATANOIDES</td>\n",
       "    </tr>\n",
       "    <tr>\n",
       "      <th>4</th>\n",
       "      <td>5</td>\n",
       "      <td>Manhattan</td>\n",
       "      <td>MAPLE, NORWAY</td>\n",
       "      <td>ACER PLATANOIDES</td>\n",
       "    </tr>\n",
       "    <tr>\n",
       "      <th>...</th>\n",
       "      <td>...</td>\n",
       "      <td>...</td>\n",
       "      <td>...</td>\n",
       "      <td>...</td>\n",
       "    </tr>\n",
       "    <tr>\n",
       "      <th>495561</th>\n",
       "      <td>47211</td>\n",
       "      <td>Manhattan</td>\n",
       "      <td>OAK, PIN</td>\n",
       "      <td>QUERCUS PALUSTRIS</td>\n",
       "    </tr>\n",
       "    <tr>\n",
       "      <th>495562</th>\n",
       "      <td>47212</td>\n",
       "      <td>Manhattan</td>\n",
       "      <td>OAK, PIN</td>\n",
       "      <td>QUERCUS PALUSTRIS</td>\n",
       "    </tr>\n",
       "    <tr>\n",
       "      <th>495563</th>\n",
       "      <td>47213</td>\n",
       "      <td>Manhattan</td>\n",
       "      <td>OAK, PIN</td>\n",
       "      <td>QUERCUS PALUSTRIS</td>\n",
       "    </tr>\n",
       "    <tr>\n",
       "      <th>495564</th>\n",
       "      <td>47214</td>\n",
       "      <td>Manhattan</td>\n",
       "      <td>OAK, PIN</td>\n",
       "      <td>QUERCUS PALUSTRIS</td>\n",
       "    </tr>\n",
       "    <tr>\n",
       "      <th>495565</th>\n",
       "      <td>47215</td>\n",
       "      <td>Manhattan</td>\n",
       "      <td>OAK, PIN</td>\n",
       "      <td>QUERCUS PALUSTRIS</td>\n",
       "    </tr>\n",
       "  </tbody>\n",
       "</table>\n",
       "<p>47215 rows × 4 columns</p>\n",
       "</div>"
      ],
      "text/plain": [
       "           id    borough        spc_common            spc_latin\n",
       "0           1  Manhattan  LONDON PLANETREE  PLATANUS ACERIFOLIA\n",
       "1           2  Manhattan     MAPLE, NORWAY     ACER PLATANOIDES\n",
       "2           3  Manhattan     MAPLE, NORWAY     ACER PLATANOIDES\n",
       "3           4  Manhattan     MAPLE, NORWAY     ACER PLATANOIDES\n",
       "4           5  Manhattan     MAPLE, NORWAY     ACER PLATANOIDES\n",
       "...       ...        ...               ...                  ...\n",
       "495561  47211  Manhattan          OAK, PIN    QUERCUS PALUSTRIS\n",
       "495562  47212  Manhattan          OAK, PIN    QUERCUS PALUSTRIS\n",
       "495563  47213  Manhattan          OAK, PIN    QUERCUS PALUSTRIS\n",
       "495564  47214  Manhattan          OAK, PIN    QUERCUS PALUSTRIS\n",
       "495565  47215  Manhattan          OAK, PIN    QUERCUS PALUSTRIS\n",
       "\n",
       "[47215 rows x 4 columns]"
      ]
     },
     "execution_count": 53,
     "metadata": {},
     "output_type": "execute_result"
    }
   ],
   "source": [
    "m95 = tree95.loc[tree95['borough'] == 'Manhattan']\n",
    "m95"
   ]
  },
  {
   "cell_type": "code",
   "execution_count": 51,
   "metadata": {},
   "outputs": [
    {
     "data": {
      "text/plain": [
       "spc_common\n",
       "'Schubert' chokecherry     163\n",
       "American beech              22\n",
       "American elm              1698\n",
       "American hophornbeam        84\n",
       "American hornbeam           85\n",
       "                          ... \n",
       "weeping willow              12\n",
       "white ash                   50\n",
       "white oak                  241\n",
       "white pine                   1\n",
       "willow oak                 889\n",
       "Name: id, Length: 128, dtype: int64"
      ]
     },
     "execution_count": 51,
     "metadata": {},
     "output_type": "execute_result"
    }
   ],
   "source": [
    "m15.groupby(['spc_common'])['id'].count()"
   ]
  },
  {
   "cell_type": "code",
   "execution_count": 54,
   "metadata": {},
   "outputs": [
    {
     "data": {
      "text/plain": [
       "spc_common\n",
       "APPLE                    31\n",
       "ARBORVITAE, EASTERN       1\n",
       "ASH, GREEN              912\n",
       "ASH, OTHER                6\n",
       "ASH, WHITE                2\n",
       "                       ... \n",
       "UNKNOWN                1078\n",
       "Unknown Dead            556\n",
       "WILLOW SPECIES            3\n",
       "YELLOWOOD                 1\n",
       "ZELKOVA, JAPANESE      2016\n",
       "Name: id, Length: 91, dtype: int64"
      ]
     },
     "execution_count": 54,
     "metadata": {},
     "output_type": "execute_result"
    }
   ],
   "source": [
    "m05.groupby(['spc_common'])['id'].count()"
   ]
  },
  {
   "cell_type": "code",
   "execution_count": 55,
   "metadata": {},
   "outputs": [
    {
     "data": {
      "text/plain": [
       "spc_common\n",
       "ALDER, EUROPEAN          13\n",
       "AMUR CORKTREE             1\n",
       "APPLE                   275\n",
       "ARBORVITAE, AMERICAN      1\n",
       "ARBORVITAE, WESTERN       2\n",
       "                       ... \n",
       "UNKNOWN SHAFT            22\n",
       "UNKNOWN STUMP           519\n",
       "WILLOW SPECIES           14\n",
       "YEW                       3\n",
       "ZELKOVA, JAPANESE       816\n",
       "Name: id, Length: 85, dtype: int64"
      ]
     },
     "execution_count": 55,
     "metadata": {},
     "output_type": "execute_result"
    }
   ],
   "source": [
    "m95.groupby(['spc_common'])['id'].count()"
   ]
  },
  {
   "cell_type": "code",
   "execution_count": 68,
   "metadata": {},
   "outputs": [
    {
     "data": {
      "text/html": [
       "<div>\n",
       "<style scoped>\n",
       "    .dataframe tbody tr th:only-of-type {\n",
       "        vertical-align: middle;\n",
       "    }\n",
       "\n",
       "    .dataframe tbody tr th {\n",
       "        vertical-align: top;\n",
       "    }\n",
       "\n",
       "    .dataframe thead th {\n",
       "        text-align: right;\n",
       "    }\n",
       "</style>\n",
       "<table border=\"1\" class=\"dataframe\">\n",
       "  <thead>\n",
       "    <tr style=\"text-align: right;\">\n",
       "      <th></th>\n",
       "      <th>2015</th>\n",
       "      <th>2005</th>\n",
       "      <th>1995</th>\n",
       "    </tr>\n",
       "    <tr>\n",
       "      <th>borough</th>\n",
       "      <th></th>\n",
       "      <th></th>\n",
       "      <th></th>\n",
       "    </tr>\n",
       "  </thead>\n",
       "  <tbody>\n",
       "    <tr>\n",
       "      <th>Bronx</th>\n",
       "      <td>85203</td>\n",
       "      <td>59925</td>\n",
       "      <td>48487</td>\n",
       "    </tr>\n",
       "    <tr>\n",
       "      <th>Brooklyn</th>\n",
       "      <td>177293</td>\n",
       "      <td>142852</td>\n",
       "      <td>117101</td>\n",
       "    </tr>\n",
       "    <tr>\n",
       "      <th>Manhattan</th>\n",
       "      <td>65423</td>\n",
       "      <td>49886</td>\n",
       "      <td>47215</td>\n",
       "    </tr>\n",
       "    <tr>\n",
       "      <th>Queens</th>\n",
       "      <td>250551</td>\n",
       "      <td>240008</td>\n",
       "      <td>227552</td>\n",
       "    </tr>\n",
       "    <tr>\n",
       "      <th>Staten Island</th>\n",
       "      <td>105318</td>\n",
       "      <td>99701</td>\n",
       "      <td>76634</td>\n",
       "    </tr>\n",
       "  </tbody>\n",
       "</table>\n",
       "</div>"
      ],
      "text/plain": [
       "                 2015    2005    1995\n",
       "borough                              \n",
       "Bronx           85203   59925   48487\n",
       "Brooklyn       177293  142852  117101\n",
       "Manhattan       65423   49886   47215\n",
       "Queens         250551  240008  227552\n",
       "Staten Island  105318   99701   76634"
      ]
     },
     "execution_count": 68,
     "metadata": {},
     "output_type": "execute_result"
    }
   ],
   "source": [
    "# create a df that includes all tree counts\n",
    "treecount = pd.DataFrame({\n",
    "    '2015': tree15.groupby('borough').size(),\n",
    "    '2005': tree05.groupby('borough').size(),\n",
    "    '1995': tree95.groupby('borough').size()}\n",
    "    )\n",
    "treecount"
   ]
  },
  {
   "cell_type": "markdown",
   "metadata": {},
   "source": [
    "### Question 3: Plot a bar and pie chart for total tree count for each borough"
   ]
  },
  {
   "cell_type": "code",
   "execution_count": 69,
   "metadata": {},
   "outputs": [
    {
     "data": {
      "text/plain": [
       "Text(0, 0.5, 'Tree Count')"
      ]
     },
     "execution_count": 69,
     "metadata": {},
     "output_type": "execute_result"
    },
    {
     "data": {
      "image/png": "[encoded data removed]",
      "text/plain": [
       "<Figure size 432x288 with 1 Axes>"
      ]
     },
     "metadata": {
      "needs_background": "light"
     },
     "output_type": "display_data"
    }
   ],
   "source": [
    "treecount.plot(kind='bar')\n",
    "plt.title('2015, 2005, and 1995 NYC Tree Counts')\n",
    "plt.xticks(rotation = 30, horizontalalignment = 'center')\n",
    "plt.xlabel('Borough')\n",
    "plt.ylabel('Tree Count')"
   ]
  },
  {
   "cell_type": "code",
   "execution_count": 72,
   "metadata": {},
   "outputs": [
    {
     "data": {
      "text/plain": [
       "array([<AxesSubplot:ylabel='2015'>, <AxesSubplot:ylabel='2005'>,\n",
       "       <AxesSubplot:ylabel='1995'>], dtype=object)"
      ]
     },
     "execution_count": 72,
     "metadata": {},
     "output_type": "execute_result"
    },
    {
     "data": {
      "image/png": "[encoded data removed]",
      "text/plain": [
       "<Figure size 1080x720 with 3 Axes>"
      ]
     },
     "metadata": {},
     "output_type": "display_data"
    }
   ],
   "source": [
    "treecount.plot.pie(title = 'NYC Tree Count', legend=False, startangle=180, autopct='%1.1f%%', subplots=True, figsize=(15,10))"
   ]
  },
  {
   "cell_type": "markdown",
   "metadata": {},
   "source": [
    "### Question 4: Create a histogram of tree_dbh for 2015, 2005, and 1995"
   ]
  }
 ],
 "metadata": {
  "kernelspec": {
   "display_name": "Python 3.9.7 ('base')",
   "language": "python",
   "name": "python3"
  },
  "language_info": {
   "codemirror_mode": {
    "name": "ipython",
    "version": 3
   },
   "file_extension": ".py",
   "mimetype": "text/x-python",
   "name": "python",
   "nbconvert_exporter": "python",
   "pygments_lexer": "ipython3",
   "version": "3.9.7"
  },
  "orig_nbformat": 4,
  "vscode": {
   "interpreter": {
    "hash": "11f7167e9fb7097b41d1b380143e3830871c5fcf1bf72bd60637d42710c8e408"
   }
  }
 },
 "nbformat": 4,
 "nbformat_minor": 2
}
