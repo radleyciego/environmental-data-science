{
 "cells": [
  {
   "cell_type": "markdown",
   "metadata": {},
   "source": [
    "<br> Radley Ciego </br>\n",
    "<br> GTECH 78518: Environmental Data Science </br>\n",
    "<br> October 25, 2022 </br>\n",
    "<br> Homework #4 </br>"
   ]
  },
  {
   "cell_type": "code",
   "execution_count": 1,
   "metadata": {},
   "outputs": [],
   "source": [
    "import pandas as pd\n",
    "import matplotlib.pyplot as plt"
   ]
  },
  {
   "cell_type": "code",
   "execution_count": 2,
   "metadata": {},
   "outputs": [
    {
     "name": "stderr",
     "output_type": "stream",
     "text": [
      "/var/folders/ff/9n9lg70d5d79jcc1pfmzhbsc0000gn/T/ipykernel_2045/223033372.py:3: DtypeWarning: Columns (37) have mixed types. Specify dtype option on import or set low_memory=False.\n",
      "  tree05 = pd.read_csv('http://www.geography.hunter.cuny.edu/~wenge/EDS2022F/data/NYCtree/2005_Street_Tree_Census.csv')\n"
     ]
    }
   ],
   "source": [
    "# read the tree census data\n",
    "tree15 = pd.read_csv('http://www.geography.hunter.cuny.edu/~wenge/EDS2022F/data/NYCtree/2015_Street_Tree_Census.csv')\n",
    "tree05 = pd.read_csv('http://www.geography.hunter.cuny.edu/~wenge/EDS2022F/data/NYCtree/2005_Street_Tree_Census.csv')\n",
    "tree95 = pd.read_csv('http://www.geography.hunter.cuny.edu/~wenge/EDS2022F/data/NYCtree/1995_Street_Tree_Census.csv')"
   ]
  },
  {
   "cell_type": "markdown",
   "metadata": {},
   "source": [
    "### Exploratory Data Analysis"
   ]
  },
  {
   "cell_type": "code",
   "execution_count": 30,
   "metadata": {},
   "outputs": [
    {
     "data": {
      "text/html": [
       "<div>\n",
       "<style scoped>\n",
       "    .dataframe tbody tr th:only-of-type {\n",
       "        vertical-align: middle;\n",
       "    }\n",
       "\n",
       "    .dataframe tbody tr th {\n",
       "        vertical-align: top;\n",
       "    }\n",
       "\n",
       "    .dataframe thead th {\n",
       "        text-align: right;\n",
       "    }\n",
       "</style>\n",
       "<table border=\"1\" class=\"dataframe\">\n",
       "  <thead>\n",
       "    <tr style=\"text-align: right;\">\n",
       "      <th></th>\n",
       "      <th>tree_id</th>\n",
       "      <th>borough</th>\n",
       "      <th>spc_common</th>\n",
       "      <th>spc_latin</th>\n",
       "    </tr>\n",
       "  </thead>\n",
       "  <tbody>\n",
       "    <tr>\n",
       "      <th>0</th>\n",
       "      <td>180683</td>\n",
       "      <td>Queens</td>\n",
       "      <td>red maple</td>\n",
       "      <td>Acer rubrum</td>\n",
       "    </tr>\n",
       "    <tr>\n",
       "      <th>1</th>\n",
       "      <td>200540</td>\n",
       "      <td>Queens</td>\n",
       "      <td>pin oak</td>\n",
       "      <td>Quercus palustris</td>\n",
       "    </tr>\n",
       "    <tr>\n",
       "      <th>2</th>\n",
       "      <td>204026</td>\n",
       "      <td>Brooklyn</td>\n",
       "      <td>honeylocust</td>\n",
       "      <td>Gleditsia triacanthos var. inermis</td>\n",
       "    </tr>\n",
       "    <tr>\n",
       "      <th>3</th>\n",
       "      <td>204337</td>\n",
       "      <td>Brooklyn</td>\n",
       "      <td>honeylocust</td>\n",
       "      <td>Gleditsia triacanthos var. inermis</td>\n",
       "    </tr>\n",
       "    <tr>\n",
       "      <th>4</th>\n",
       "      <td>189565</td>\n",
       "      <td>Brooklyn</td>\n",
       "      <td>American linden</td>\n",
       "      <td>Tilia americana</td>\n",
       "    </tr>\n",
       "    <tr>\n",
       "      <th>...</th>\n",
       "      <td>...</td>\n",
       "      <td>...</td>\n",
       "      <td>...</td>\n",
       "      <td>...</td>\n",
       "    </tr>\n",
       "    <tr>\n",
       "      <th>683783</th>\n",
       "      <td>155433</td>\n",
       "      <td>Brooklyn</td>\n",
       "      <td>pin oak</td>\n",
       "      <td>Quercus palustris</td>\n",
       "    </tr>\n",
       "    <tr>\n",
       "      <th>683784</th>\n",
       "      <td>183795</td>\n",
       "      <td>Queens</td>\n",
       "      <td>Kentucky yellowwood</td>\n",
       "      <td>Cladrastis kentukea</td>\n",
       "    </tr>\n",
       "    <tr>\n",
       "      <th>683785</th>\n",
       "      <td>166161</td>\n",
       "      <td>Staten Island</td>\n",
       "      <td>red maple</td>\n",
       "      <td>Acer rubrum</td>\n",
       "    </tr>\n",
       "    <tr>\n",
       "      <th>683786</th>\n",
       "      <td>184028</td>\n",
       "      <td>Bronx</td>\n",
       "      <td>red maple</td>\n",
       "      <td>Acer rubrum</td>\n",
       "    </tr>\n",
       "    <tr>\n",
       "      <th>683787</th>\n",
       "      <td>200607</td>\n",
       "      <td>Queens</td>\n",
       "      <td>red maple</td>\n",
       "      <td>Acer rubrum</td>\n",
       "    </tr>\n",
       "  </tbody>\n",
       "</table>\n",
       "<p>683788 rows × 4 columns</p>\n",
       "</div>"
      ],
      "text/plain": [
       "        tree_id        borough           spc_common  \\\n",
       "0        180683         Queens            red maple   \n",
       "1        200540         Queens              pin oak   \n",
       "2        204026       Brooklyn          honeylocust   \n",
       "3        204337       Brooklyn          honeylocust   \n",
       "4        189565       Brooklyn      American linden   \n",
       "...         ...            ...                  ...   \n",
       "683783   155433       Brooklyn              pin oak   \n",
       "683784   183795         Queens  Kentucky yellowwood   \n",
       "683785   166161  Staten Island            red maple   \n",
       "683786   184028          Bronx            red maple   \n",
       "683787   200607         Queens            red maple   \n",
       "\n",
       "                                 spc_latin  \n",
       "0                              Acer rubrum  \n",
       "1                        Quercus palustris  \n",
       "2       Gleditsia triacanthos var. inermis  \n",
       "3       Gleditsia triacanthos var. inermis  \n",
       "4                          Tilia americana  \n",
       "...                                    ...  \n",
       "683783                   Quercus palustris  \n",
       "683784                 Cladrastis kentukea  \n",
       "683785                         Acer rubrum  \n",
       "683786                         Acer rubrum  \n",
       "683787                         Acer rubrum  \n",
       "\n",
       "[683788 rows x 4 columns]"
      ]
     },
     "execution_count": 30,
     "metadata": {},
     "output_type": "execute_result"
    }
   ],
   "source": [
    "# subset dataframe to include only relevant columns\n",
    "tree15 = tree15[['tree_id','borough','spc_common','spc_latin']]\n",
    "tree15"
   ]
  },
  {
   "cell_type": "code",
   "execution_count": 31,
   "metadata": {},
   "outputs": [
    {
     "data": {
      "text/html": [
       "<div>\n",
       "<style scoped>\n",
       "    .dataframe tbody tr th:only-of-type {\n",
       "        vertical-align: middle;\n",
       "    }\n",
       "\n",
       "    .dataframe tbody tr th {\n",
       "        vertical-align: top;\n",
       "    }\n",
       "\n",
       "    .dataframe thead th {\n",
       "        text-align: right;\n",
       "    }\n",
       "</style>\n",
       "<table border=\"1\" class=\"dataframe\">\n",
       "  <thead>\n",
       "    <tr style=\"text-align: right;\">\n",
       "      <th></th>\n",
       "      <th>OBJECTID</th>\n",
       "      <th>boroname</th>\n",
       "      <th>spc_common</th>\n",
       "      <th>spc_latin</th>\n",
       "    </tr>\n",
       "  </thead>\n",
       "  <tbody>\n",
       "    <tr>\n",
       "      <th>0</th>\n",
       "      <td>592373</td>\n",
       "      <td>Brooklyn</td>\n",
       "      <td>PEAR, CALLERY</td>\n",
       "      <td>PYRUS CALLERYANA</td>\n",
       "    </tr>\n",
       "    <tr>\n",
       "      <th>1</th>\n",
       "      <td>592374</td>\n",
       "      <td>Brooklyn</td>\n",
       "      <td>LONDON PLANETREE</td>\n",
       "      <td>PLATANUS ACERIFOLIA</td>\n",
       "    </tr>\n",
       "    <tr>\n",
       "      <th>2</th>\n",
       "      <td>592375</td>\n",
       "      <td>Brooklyn</td>\n",
       "      <td>MAPLE, NORWAY-CR KNG</td>\n",
       "      <td>ACER PLATANOIDES          CRIMSON KING</td>\n",
       "    </tr>\n",
       "    <tr>\n",
       "      <th>3</th>\n",
       "      <td>592376</td>\n",
       "      <td>Brooklyn</td>\n",
       "      <td>LONDON PLANETREE</td>\n",
       "      <td>PLATANUS ACERIFOLIA</td>\n",
       "    </tr>\n",
       "    <tr>\n",
       "      <th>4</th>\n",
       "      <td>592377</td>\n",
       "      <td>Brooklyn</td>\n",
       "      <td>LONDON PLANETREE</td>\n",
       "      <td>PLATANUS ACERIFOLIA</td>\n",
       "    </tr>\n",
       "    <tr>\n",
       "      <th>...</th>\n",
       "      <td>...</td>\n",
       "      <td>...</td>\n",
       "      <td>...</td>\n",
       "      <td>...</td>\n",
       "    </tr>\n",
       "    <tr>\n",
       "      <th>592367</th>\n",
       "      <td>1184740</td>\n",
       "      <td>Staten Island</td>\n",
       "      <td>LONDON PLANETREE</td>\n",
       "      <td>PLATANUS ACERIFOLIA</td>\n",
       "    </tr>\n",
       "    <tr>\n",
       "      <th>592368</th>\n",
       "      <td>1184741</td>\n",
       "      <td>Staten Island</td>\n",
       "      <td>MAPLE, SILVER</td>\n",
       "      <td>ACER SACCHARINUM</td>\n",
       "    </tr>\n",
       "    <tr>\n",
       "      <th>592369</th>\n",
       "      <td>1184742</td>\n",
       "      <td>Staten Island</td>\n",
       "      <td>MAPLE, NORWAY-CR KNG</td>\n",
       "      <td>ACER PLATANOIDES          CRIMSON KING</td>\n",
       "    </tr>\n",
       "    <tr>\n",
       "      <th>592370</th>\n",
       "      <td>1184743</td>\n",
       "      <td>Staten Island</td>\n",
       "      <td>MAPLE, NORWAY-CR KNG</td>\n",
       "      <td>ACER PLATANOIDES          CRIMSON KING</td>\n",
       "    </tr>\n",
       "    <tr>\n",
       "      <th>592371</th>\n",
       "      <td>1184744</td>\n",
       "      <td>Staten Island</td>\n",
       "      <td>MAPLE, NORWAY-CR KNG</td>\n",
       "      <td>ACER PLATANOIDES          CRIMSON KING</td>\n",
       "    </tr>\n",
       "  </tbody>\n",
       "</table>\n",
       "<p>592372 rows × 4 columns</p>\n",
       "</div>"
      ],
      "text/plain": [
       "        OBJECTID       boroname            spc_common  \\\n",
       "0         592373       Brooklyn         PEAR, CALLERY   \n",
       "1         592374       Brooklyn      LONDON PLANETREE   \n",
       "2         592375       Brooklyn  MAPLE, NORWAY-CR KNG   \n",
       "3         592376       Brooklyn      LONDON PLANETREE   \n",
       "4         592377       Brooklyn      LONDON PLANETREE   \n",
       "...          ...            ...                   ...   \n",
       "592367   1184740  Staten Island      LONDON PLANETREE   \n",
       "592368   1184741  Staten Island         MAPLE, SILVER   \n",
       "592369   1184742  Staten Island  MAPLE, NORWAY-CR KNG   \n",
       "592370   1184743  Staten Island  MAPLE, NORWAY-CR KNG   \n",
       "592371   1184744  Staten Island  MAPLE, NORWAY-CR KNG   \n",
       "\n",
       "                                     spc_latin  \n",
       "0                             PYRUS CALLERYANA  \n",
       "1                          PLATANUS ACERIFOLIA  \n",
       "2       ACER PLATANOIDES          CRIMSON KING  \n",
       "3                          PLATANUS ACERIFOLIA  \n",
       "4                          PLATANUS ACERIFOLIA  \n",
       "...                                        ...  \n",
       "592367                     PLATANUS ACERIFOLIA  \n",
       "592368                        ACER SACCHARINUM  \n",
       "592369  ACER PLATANOIDES          CRIMSON KING  \n",
       "592370  ACER PLATANOIDES          CRIMSON KING  \n",
       "592371  ACER PLATANOIDES          CRIMSON KING  \n",
       "\n",
       "[592372 rows x 4 columns]"
      ]
     },
     "execution_count": 31,
     "metadata": {},
     "output_type": "execute_result"
    }
   ],
   "source": [
    "tree05 = tree05[['OBJECTID','boroname','spc_common','spc_latin']]\n",
    "tree05"
   ]
  },
  {
   "cell_type": "code",
   "execution_count": 32,
   "metadata": {},
   "outputs": [
    {
     "data": {
      "text/html": [
       "<div>\n",
       "<style scoped>\n",
       "    .dataframe tbody tr th:only-of-type {\n",
       "        vertical-align: middle;\n",
       "    }\n",
       "\n",
       "    .dataframe tbody tr th {\n",
       "        vertical-align: top;\n",
       "    }\n",
       "\n",
       "    .dataframe thead th {\n",
       "        text-align: right;\n",
       "    }\n",
       "</style>\n",
       "<table border=\"1\" class=\"dataframe\">\n",
       "  <thead>\n",
       "    <tr style=\"text-align: right;\">\n",
       "      <th></th>\n",
       "      <th>RecordId</th>\n",
       "      <th>Borough</th>\n",
       "      <th>Spc_Common</th>\n",
       "      <th>Spc_Latin</th>\n",
       "    </tr>\n",
       "  </thead>\n",
       "  <tbody>\n",
       "    <tr>\n",
       "      <th>0</th>\n",
       "      <td>1</td>\n",
       "      <td>Manhattan</td>\n",
       "      <td>LONDON PLANETREE</td>\n",
       "      <td>PLATANUS ACERIFOLIA</td>\n",
       "    </tr>\n",
       "    <tr>\n",
       "      <th>1</th>\n",
       "      <td>2</td>\n",
       "      <td>Manhattan</td>\n",
       "      <td>MAPLE, NORWAY</td>\n",
       "      <td>ACER PLATANOIDES</td>\n",
       "    </tr>\n",
       "    <tr>\n",
       "      <th>2</th>\n",
       "      <td>3</td>\n",
       "      <td>Manhattan</td>\n",
       "      <td>MAPLE, NORWAY</td>\n",
       "      <td>ACER PLATANOIDES</td>\n",
       "    </tr>\n",
       "    <tr>\n",
       "      <th>3</th>\n",
       "      <td>4</td>\n",
       "      <td>Manhattan</td>\n",
       "      <td>MAPLE, NORWAY</td>\n",
       "      <td>ACER PLATANOIDES</td>\n",
       "    </tr>\n",
       "    <tr>\n",
       "      <th>4</th>\n",
       "      <td>5</td>\n",
       "      <td>Manhattan</td>\n",
       "      <td>MAPLE, NORWAY</td>\n",
       "      <td>ACER PLATANOIDES</td>\n",
       "    </tr>\n",
       "    <tr>\n",
       "      <th>...</th>\n",
       "      <td>...</td>\n",
       "      <td>...</td>\n",
       "      <td>...</td>\n",
       "      <td>...</td>\n",
       "    </tr>\n",
       "    <tr>\n",
       "      <th>516984</th>\n",
       "      <td>516787</td>\n",
       "      <td>Staten Island</td>\n",
       "      <td>PEAR, CALLERY</td>\n",
       "      <td>PYRUS CALLERYANA</td>\n",
       "    </tr>\n",
       "    <tr>\n",
       "      <th>516985</th>\n",
       "      <td>516788</td>\n",
       "      <td>Staten Island</td>\n",
       "      <td>PEAR, CALLERY</td>\n",
       "      <td>PYRUS CALLERYANA</td>\n",
       "    </tr>\n",
       "    <tr>\n",
       "      <th>516986</th>\n",
       "      <td>516966</td>\n",
       "      <td>Staten Island</td>\n",
       "      <td>PEAR, CALLERY</td>\n",
       "      <td>PYRUS CALLERYANA</td>\n",
       "    </tr>\n",
       "    <tr>\n",
       "      <th>516987</th>\n",
       "      <td>516967</td>\n",
       "      <td>Staten Island</td>\n",
       "      <td>PEAR, CALLERY</td>\n",
       "      <td>PYRUS CALLERYANA</td>\n",
       "    </tr>\n",
       "    <tr>\n",
       "      <th>516988</th>\n",
       "      <td>516968</td>\n",
       "      <td>Staten Island</td>\n",
       "      <td>PEAR, CALLERY</td>\n",
       "      <td>PYRUS CALLERYANA</td>\n",
       "    </tr>\n",
       "  </tbody>\n",
       "</table>\n",
       "<p>516989 rows × 4 columns</p>\n",
       "</div>"
      ],
      "text/plain": [
       "        RecordId        Borough        Spc_Common            Spc_Latin\n",
       "0              1      Manhattan  LONDON PLANETREE  PLATANUS ACERIFOLIA\n",
       "1              2      Manhattan     MAPLE, NORWAY     ACER PLATANOIDES\n",
       "2              3      Manhattan     MAPLE, NORWAY     ACER PLATANOIDES\n",
       "3              4      Manhattan     MAPLE, NORWAY     ACER PLATANOIDES\n",
       "4              5      Manhattan     MAPLE, NORWAY     ACER PLATANOIDES\n",
       "...          ...            ...               ...                  ...\n",
       "516984    516787  Staten Island     PEAR, CALLERY     PYRUS CALLERYANA\n",
       "516985    516788  Staten Island     PEAR, CALLERY     PYRUS CALLERYANA\n",
       "516986    516966  Staten Island     PEAR, CALLERY     PYRUS CALLERYANA\n",
       "516987    516967  Staten Island     PEAR, CALLERY     PYRUS CALLERYANA\n",
       "516988    516968  Staten Island     PEAR, CALLERY     PYRUS CALLERYANA\n",
       "\n",
       "[516989 rows x 4 columns]"
      ]
     },
     "execution_count": 32,
     "metadata": {},
     "output_type": "execute_result"
    }
   ],
   "source": [
    "tree95 = tree95[['RecordId','Borough','Spc_Common','Spc_Latin']]\n",
    "tree95"
   ]
  },
  {
   "cell_type": "code",
   "execution_count": 39,
   "metadata": {},
   "outputs": [],
   "source": [
    "# rename columns\n",
    "tree15.columns = ['id','borough','spc_common','spc_latin']"
   ]
  },
  {
   "cell_type": "code",
   "execution_count": 40,
   "metadata": {},
   "outputs": [
    {
     "data": {
      "text/html": [
       "<div>\n",
       "<style scoped>\n",
       "    .dataframe tbody tr th:only-of-type {\n",
       "        vertical-align: middle;\n",
       "    }\n",
       "\n",
       "    .dataframe tbody tr th {\n",
       "        vertical-align: top;\n",
       "    }\n",
       "\n",
       "    .dataframe thead th {\n",
       "        text-align: right;\n",
       "    }\n",
       "</style>\n",
       "<table border=\"1\" class=\"dataframe\">\n",
       "  <thead>\n",
       "    <tr style=\"text-align: right;\">\n",
       "      <th></th>\n",
       "      <th>id</th>\n",
       "      <th>borough</th>\n",
       "      <th>spc_common</th>\n",
       "      <th>spc_latin</th>\n",
       "    </tr>\n",
       "  </thead>\n",
       "  <tbody>\n",
       "    <tr>\n",
       "      <th>0</th>\n",
       "      <td>592373</td>\n",
       "      <td>Brooklyn</td>\n",
       "      <td>PEAR, CALLERY</td>\n",
       "      <td>PYRUS CALLERYANA</td>\n",
       "    </tr>\n",
       "    <tr>\n",
       "      <th>1</th>\n",
       "      <td>592374</td>\n",
       "      <td>Brooklyn</td>\n",
       "      <td>LONDON PLANETREE</td>\n",
       "      <td>PLATANUS ACERIFOLIA</td>\n",
       "    </tr>\n",
       "    <tr>\n",
       "      <th>2</th>\n",
       "      <td>592375</td>\n",
       "      <td>Brooklyn</td>\n",
       "      <td>MAPLE, NORWAY-CR KNG</td>\n",
       "      <td>ACER PLATANOIDES          CRIMSON KING</td>\n",
       "    </tr>\n",
       "    <tr>\n",
       "      <th>3</th>\n",
       "      <td>592376</td>\n",
       "      <td>Brooklyn</td>\n",
       "      <td>LONDON PLANETREE</td>\n",
       "      <td>PLATANUS ACERIFOLIA</td>\n",
       "    </tr>\n",
       "    <tr>\n",
       "      <th>4</th>\n",
       "      <td>592377</td>\n",
       "      <td>Brooklyn</td>\n",
       "      <td>LONDON PLANETREE</td>\n",
       "      <td>PLATANUS ACERIFOLIA</td>\n",
       "    </tr>\n",
       "    <tr>\n",
       "      <th>...</th>\n",
       "      <td>...</td>\n",
       "      <td>...</td>\n",
       "      <td>...</td>\n",
       "      <td>...</td>\n",
       "    </tr>\n",
       "    <tr>\n",
       "      <th>592367</th>\n",
       "      <td>1184740</td>\n",
       "      <td>Staten Island</td>\n",
       "      <td>LONDON PLANETREE</td>\n",
       "      <td>PLATANUS ACERIFOLIA</td>\n",
       "    </tr>\n",
       "    <tr>\n",
       "      <th>592368</th>\n",
       "      <td>1184741</td>\n",
       "      <td>Staten Island</td>\n",
       "      <td>MAPLE, SILVER</td>\n",
       "      <td>ACER SACCHARINUM</td>\n",
       "    </tr>\n",
       "    <tr>\n",
       "      <th>592369</th>\n",
       "      <td>1184742</td>\n",
       "      <td>Staten Island</td>\n",
       "      <td>MAPLE, NORWAY-CR KNG</td>\n",
       "      <td>ACER PLATANOIDES          CRIMSON KING</td>\n",
       "    </tr>\n",
       "    <tr>\n",
       "      <th>592370</th>\n",
       "      <td>1184743</td>\n",
       "      <td>Staten Island</td>\n",
       "      <td>MAPLE, NORWAY-CR KNG</td>\n",
       "      <td>ACER PLATANOIDES          CRIMSON KING</td>\n",
       "    </tr>\n",
       "    <tr>\n",
       "      <th>592371</th>\n",
       "      <td>1184744</td>\n",
       "      <td>Staten Island</td>\n",
       "      <td>MAPLE, NORWAY-CR KNG</td>\n",
       "      <td>ACER PLATANOIDES          CRIMSON KING</td>\n",
       "    </tr>\n",
       "  </tbody>\n",
       "</table>\n",
       "<p>592372 rows × 4 columns</p>\n",
       "</div>"
      ],
      "text/plain": [
       "             id        borough            spc_common  \\\n",
       "0        592373       Brooklyn         PEAR, CALLERY   \n",
       "1        592374       Brooklyn      LONDON PLANETREE   \n",
       "2        592375       Brooklyn  MAPLE, NORWAY-CR KNG   \n",
       "3        592376       Brooklyn      LONDON PLANETREE   \n",
       "4        592377       Brooklyn      LONDON PLANETREE   \n",
       "...         ...            ...                   ...   \n",
       "592367  1184740  Staten Island      LONDON PLANETREE   \n",
       "592368  1184741  Staten Island         MAPLE, SILVER   \n",
       "592369  1184742  Staten Island  MAPLE, NORWAY-CR KNG   \n",
       "592370  1184743  Staten Island  MAPLE, NORWAY-CR KNG   \n",
       "592371  1184744  Staten Island  MAPLE, NORWAY-CR KNG   \n",
       "\n",
       "                                     spc_latin  \n",
       "0                             PYRUS CALLERYANA  \n",
       "1                          PLATANUS ACERIFOLIA  \n",
       "2       ACER PLATANOIDES          CRIMSON KING  \n",
       "3                          PLATANUS ACERIFOLIA  \n",
       "4                          PLATANUS ACERIFOLIA  \n",
       "...                                        ...  \n",
       "592367                     PLATANUS ACERIFOLIA  \n",
       "592368                        ACER SACCHARINUM  \n",
       "592369  ACER PLATANOIDES          CRIMSON KING  \n",
       "592370  ACER PLATANOIDES          CRIMSON KING  \n",
       "592371  ACER PLATANOIDES          CRIMSON KING  \n",
       "\n",
       "[592372 rows x 4 columns]"
      ]
     },
     "execution_count": 40,
     "metadata": {},
     "output_type": "execute_result"
    }
   ],
   "source": [
    "tree05.columns = ['id','borough','spc_common','spc_latin']\n",
    "tree05"
   ]
  },
  {
   "cell_type": "code",
   "execution_count": 41,
   "metadata": {},
   "outputs": [],
   "source": [
    "tree95.columns = ['id','borough','spc_common','spc_latin']"
   ]
  },
  {
   "cell_type": "code",
   "execution_count": 36,
   "metadata": {},
   "outputs": [
    {
     "data": {
      "text/plain": [
       "Queens           250551\n",
       "Brooklyn         177293\n",
       "Staten Island    105318\n",
       "Bronx             85203\n",
       "Manhattan         65423\n",
       "Name: borough, dtype: int64"
      ]
     },
     "execution_count": 36,
     "metadata": {},
     "output_type": "execute_result"
    }
   ],
   "source": [
    "# identify the value count of the borough column\n",
    "tree15[\"borough\"].value_counts()"
   ]
  },
  {
   "cell_type": "code",
   "execution_count": 42,
   "metadata": {},
   "outputs": [
    {
     "data": {
      "text/plain": [
       "Queens           240008\n",
       "Brooklyn         142852\n",
       "Staten Island     99701\n",
       "Bronx             59925\n",
       "Manhattan         49886\n",
       "Name: borough, dtype: int64"
      ]
     },
     "execution_count": 42,
     "metadata": {},
     "output_type": "execute_result"
    }
   ],
   "source": [
    "tree05[\"borough\"].value_counts()"
   ]
  },
  {
   "cell_type": "code",
   "execution_count": 43,
   "metadata": {},
   "outputs": [
    {
     "data": {
      "text/plain": [
       "Queens           227552\n",
       "Brooklyn         117101\n",
       "Staten Island     76634\n",
       "Bronx             48487\n",
       "Manhattan         47215\n",
       "Name: borough, dtype: int64"
      ]
     },
     "execution_count": 43,
     "metadata": {},
     "output_type": "execute_result"
    }
   ],
   "source": [
    "tree95[\"borough\"].value_counts()"
   ]
  },
  {
   "cell_type": "code",
   "execution_count": 45,
   "metadata": {},
   "outputs": [],
   "source": [
    "# replace 5 values with Staten Island\n",
    "tree05[\"borough\"].replace({\"5\":\"Staten Island\",5:\"Staten Island\"}, inplace = True)"
   ]
  },
  {
   "cell_type": "code",
   "execution_count": null,
   "metadata": {},
   "outputs": [],
   "source": [
    "# Check for invalid values"
   ]
  },
  {
   "cell_type": "markdown",
   "metadata": {},
   "source": [
    "### Question 1: How many trees in each borough for years 2015, 2005, 1995?"
   ]
  },
  {
   "cell_type": "code",
   "execution_count": 20,
   "metadata": {},
   "outputs": [
    {
     "data": {
      "text/plain": [
       "borough\n",
       "Bronx             85203\n",
       "Brooklyn         177293\n",
       "Manhattan         65423\n",
       "Queens           250551\n",
       "Staten Island    105318\n",
       "Name: tree_id, dtype: int64"
      ]
     },
     "execution_count": 20,
     "metadata": {},
     "output_type": "execute_result"
    }
   ],
   "source": [
    "tree15.groupby(['borough'])['id'].count()"
   ]
  },
  {
   "cell_type": "code",
   "execution_count": 21,
   "metadata": {},
   "outputs": [
    {
     "data": {
      "text/plain": [
       "boroname\n",
       "Bronx             59925\n",
       "Brooklyn         142852\n",
       "Manhattan         49886\n",
       "Queens           240008\n",
       "Staten Island     99701\n",
       "Name: OBJECTID, dtype: int64"
      ]
     },
     "execution_count": 21,
     "metadata": {},
     "output_type": "execute_result"
    }
   ],
   "source": [
    "tree05.groupby(['borough'])['id'].count()"
   ]
  },
  {
   "cell_type": "code",
   "execution_count": 10,
   "metadata": {},
   "outputs": [
    {
     "data": {
      "text/plain": [
       "boroname\n",
       "Bronx             59925\n",
       "Brooklyn         142852\n",
       "Manhattan         49886\n",
       "Queens           240008\n",
       "Staten Island     99701\n",
       "Name: OBJECTID, dtype: int64"
      ]
     },
     "execution_count": 10,
     "metadata": {},
     "output_type": "execute_result"
    }
   ],
   "source": [
    "tree05.groupby(['borough'])['id'].count()"
   ]
  },
  {
   "cell_type": "code",
   "execution_count": 6,
   "metadata": {},
   "outputs": [
    {
     "data": {
      "text/plain": [
       "Borough\n",
       "Bronx             48487\n",
       "Brooklyn         117101\n",
       "Manhattan         47215\n",
       "Queens           227552\n",
       "Staten Island     76634\n",
       "Name: RecordId, dtype: int64"
      ]
     },
     "execution_count": 6,
     "metadata": {},
     "output_type": "execute_result"
    }
   ],
   "source": [
    "tree95.groupby(['borough'])['id'].count()"
   ]
  },
  {
   "cell_type": "markdown",
   "metadata": {},
   "source": [
    "### Question 2: Identify the number of tree species and the corresponding tree count for each species in Manhattan"
   ]
  },
  {
   "cell_type": "code",
   "execution_count": 11,
   "metadata": {},
   "outputs": [
    {
     "ename": "NameError",
     "evalue": "name 'subset' is not defined",
     "output_type": "error",
     "traceback": [
      "\u001b[0;31m---------------------------------------------------------------------------\u001b[0m",
      "\u001b[0;31mNameError\u001b[0m                                 Traceback (most recent call last)",
      "\u001b[0;32m/var/folders/ff/9n9lg70d5d79jcc1pfmzhbsc0000gn/T/ipykernel_2045/1019458216.py\u001b[0m in \u001b[0;36m<module>\u001b[0;34m\u001b[0m\n\u001b[0;32m----> 1\u001b[0;31m \u001b[0msubset\u001b[0m\u001b[0;34m(\u001b[0m\u001b[0mtree15\u001b[0m\u001b[0;34m,\u001b[0m \u001b[0mborough\u001b[0m \u001b[0;34m==\u001b[0m \u001b[0;34m'Manhattan'\u001b[0m\u001b[0;34m)\u001b[0m\u001b[0;34m\u001b[0m\u001b[0;34m\u001b[0m\u001b[0m\n\u001b[0m",
      "\u001b[0;31mNameError\u001b[0m: name 'subset' is not defined"
     ]
    }
   ],
   "source": [
    "subset(tree15, borough == 'Manhattan')"
   ]
  },
  {
   "cell_type": "code",
   "execution_count": 7,
   "metadata": {},
   "outputs": [
    {
     "data": {
      "text/plain": [
       "spc_common\n",
       "'Schubert' chokecherry    4888\n",
       "American beech             273\n",
       "American elm              7975\n",
       "American hophornbeam      1081\n",
       "American hornbeam         1517\n",
       "                          ... \n",
       "weeping willow             282\n",
       "white ash                 1121\n",
       "white oak                 1686\n",
       "white pine                 202\n",
       "willow oak                3184\n",
       "Name: tree_id, Length: 132, dtype: int64"
      ]
     },
     "execution_count": 7,
     "metadata": {},
     "output_type": "execute_result"
    }
   ],
   "source": [
    "# first subset for Manhattan\n",
    "# subset(df, gender == 'M')\n",
    "tree15.groupby(['spc_common'])['id'].count()"
   ]
  }
 ],
 "metadata": {
  "kernelspec": {
   "display_name": "Python 3.9.7 ('base')",
   "language": "python",
   "name": "python3"
  },
  "language_info": {
   "codemirror_mode": {
    "name": "ipython",
    "version": 3
   },
   "file_extension": ".py",
   "mimetype": "text/x-python",
   "name": "python",
   "nbconvert_exporter": "python",
   "pygments_lexer": "ipython3",
   "version": "3.9.7"
  },
  "orig_nbformat": 4,
  "vscode": {
   "interpreter": {
    "hash": "11f7167e9fb7097b41d1b380143e3830871c5fcf1bf72bd60637d42710c8e408"
   }
  }
 },
 "nbformat": 4,
 "nbformat_minor": 2
}
