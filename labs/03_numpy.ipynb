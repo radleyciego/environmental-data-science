{
 "cells": [
  {
   "cell_type": "code",
   "execution_count": 2,
   "metadata": {},
   "outputs": [],
   "source": [
    "import numpy as np"
   ]
  },
  {
   "cell_type": "markdown",
   "metadata": {},
   "source": [
    "## Exercise 1"
   ]
  },
  {
   "cell_type": "code",
   "execution_count": 2,
   "metadata": {},
   "outputs": [
    {
     "data": {
      "text/plain": [
       "array([[225, 196, 169, 144, 121, 100],\n",
       "       [ 81,  64,  49,  36,  25,  16],\n",
       "       [  9,   4,   1,   0,   1,   4],\n",
       "       [  9,  16,  25,  36,  49,  64],\n",
       "       [ 81, 100, 121, 144, 169, 196]])"
      ]
     },
     "execution_count": 2,
     "metadata": {},
     "output_type": "execute_result"
    }
   ],
   "source": [
    "# create an array specifying values between -15 and 15 and square root each value\n",
    "a = np.arange(-15,15).reshape(5,6)**2\n",
    "a "
   ]
  },
  {
   "cell_type": "markdown",
   "metadata": {},
   "source": [
    "Question 1: Compute the maximum of each row"
   ]
  },
  {
   "cell_type": "code",
   "execution_count": 3,
   "metadata": {},
   "outputs": [
    {
     "name": "stdout",
     "output_type": "stream",
     "text": [
      "[225  81   9  64 196]\n"
     ]
    }
   ],
   "source": [
    "max_value = np.max(a, axis=1)\n",
    "print(max_value)"
   ]
  },
  {
   "cell_type": "markdown",
   "metadata": {},
   "source": [
    "Question 2: The mean of each column"
   ]
  },
  {
   "cell_type": "code",
   "execution_count": 6,
   "metadata": {},
   "outputs": [
    {
     "name": "stdout",
     "output_type": "stream",
     "text": [
      "[81. 76. 73. 72. 73. 76.]\n"
     ]
    }
   ],
   "source": [
    "mean_value = np.mean(a, axis=0)\n",
    "print(mean_value)"
   ]
  },
  {
   "cell_type": "markdown",
   "metadata": {},
   "source": [
    "Question 3: The position of the overall minimum"
   ]
  },
  {
   "cell_type": "code",
   "execution_count": 7,
   "metadata": {},
   "outputs": [
    {
     "name": "stdout",
     "output_type": "stream",
     "text": [
      "0\n"
     ]
    }
   ],
   "source": [
    "min_value = np.min(a)\n",
    "print(min_value)"
   ]
  },
  {
   "cell_type": "markdown",
   "metadata": {},
   "source": [
    "## Exercise 2"
   ]
  },
  {
   "cell_type": "code",
   "execution_count": 3,
   "metadata": {},
   "outputs": [
    {
     "data": {
      "text/plain": [
       "array([[2000. ,   31.3,   37.3,   47.2,   51. ,   63.5,   71.3,   72.3,\n",
       "          72.7,   66. ,   57. ,   45.3,   31.1,   53.9],\n",
       "       [2001. ,   33.6,   35.9,   39.6,   54.2,   63.8,   72.9,   73.2,\n",
       "          78.7,   67.7,   58.5,   52.7,   44.1,   56.3],\n",
       "       [2002. ,   39.9,   40.6,   44.1,   56.1,   60.7,   71.4,   78.8,\n",
       "          77.7,   70.2,   55.2,   46. ,   36. ,   56.4],\n",
       "       [2003. ,   27.5,   30.1,   43.1,   49.8,   58.7,   68.3,   75.8,\n",
       "          76.7,   67.9,   55.1,   50. ,   37.6,   53.4],\n",
       "       [2004. ,   24.7,   35. ,   43.5,   53.6,   65.2,   71.2,   74.5,\n",
       "          74.2,   69.3,   56. ,   48.2,   38.4,   54.5],\n",
       "       [2005. ,   31.3,   36.5,   39.4,   55.1,   58.9,   74. ,   77.5,\n",
       "          79.7,   73.3,   57.9,   49.6,   35.3,   55.8],\n",
       "       [2006. ,   40.9,   35.7,   43.1,   55.7,   63.1,   71. ,   77.9,\n",
       "          75.8,   66.6,   56.2,   51.9,   43.6,   56.8],\n",
       "       [2007. ,   37.5,   28.2,   42.2,   50.3,   65.2,   71.4,   75. ,\n",
       "          74. ,   70.3,   63.6,   45.4,   37. ,   55. ],\n",
       "       [2008. ,   36.5,   35.8,   42.6,   54.9,   60.1,   74. ,   78.4,\n",
       "          73.8,   68.8,   55.1,   45.8,   38.1,   55.3],\n",
       "       [2009. ,   27.9,   36.7,   42.4,   54.5,   62.5,   67.5,   72.7,\n",
       "          75.7,   66.3,   55. ,   51.2,   35.9,   54. ],\n",
       "       [2010. ,   32.5,   33.1,   48.2,   57.9,   65.3,   74.7,   81.3,\n",
       "          77.4,   71.1,   58.1,   47.9,   32.8,   56.7],\n",
       "       [2011. ,   29.7,   36. ,   42.3,   54.3,   64.5,   72.3,   80.2,\n",
       "          75.3,   70. ,   57.1,   51.9,   43.3,   56.4],\n",
       "       [2012. ,   37.3,   40.9,   50.9,   54.8,   65.1,   71. ,   78.8,\n",
       "          76.7,   68.8,   58. ,   43.9,   41.5,   57.3],\n",
       "       [2013. ,   35.1,   33.9,   40.1,   53. ,   62.8,   72.7,   79.8,\n",
       "          74.6,   67.9,   60.2,   45.3,   38.5,   55.3],\n",
       "       [2014. ,   28.6,   31.6,   37.7,   52.3,   64. ,   72.5,   76.1,\n",
       "          74.5,   69.7,   59.6,   45.3,   40.5,   54.4],\n",
       "       [2015. ,   29.9,   23.9,   38.1,   54.3,   68.5,   71.2,   78.8,\n",
       "          79. ,   74.5,   58. ,   52.8,   50.8,   56.7],\n",
       "       [2016. ,   34.5,   37.7,   48.9,   53.3,   62.8,   72.3,   78.7,\n",
       "          79.2,   71.8,   58.8,   49.8,   38.3,   57.2],\n",
       "       [2017. ,   38. ,   41.6,   39.2,   57.2,   61.1,   72. ,   76.8,\n",
       "          74. ,   70.5,   64.1,   46.6,   33.4,   56.3],\n",
       "       [2018. ,   31.7,   42. ,   40.1,   49.5,   66.9,   71.7,   77.6,\n",
       "          78.1,   70.7,   57.7,   44.4,   40.1,   55.9],\n",
       "       [2019. ,   32.5,   36.2,   41.7,   55.5,   62.2,   71.7,   79.6,\n",
       "          75.5,   70.4,   59.9,   43.9,   38.3,   55.6],\n",
       "       [2020. ,   39.1,   40.1,   48. ,   50.4,   60.3,   73.7,   80. ,\n",
       "          76.9,   68.8,   57.9,   53. ,   39.2,   57.3]])"
      ]
     },
     "execution_count": 3,
     "metadata": {},
     "output_type": "execute_result"
    }
   ],
   "source": [
    "temp = np.loadtxt('http://www.geography.hunter.cuny.edu/~wenge/EDS2022F/data/NYCMet/CPannualT.csv',skiprows=2,delimiter=',')\n",
    "temp"
   ]
  },
  {
   "cell_type": "markdown",
   "metadata": {},
   "source": [
    "Question 1: Find out the mean, max, min standard deviation of monthly temperature for all 20 years:"
   ]
  },
  {
   "cell_type": "code",
   "execution_count": 17,
   "metadata": {},
   "outputs": [
    {
     "name": "stdout",
     "output_type": "stream",
     "text": [
      "[40.9 42.  50.9 57.9 68.5 74.7 81.3 79.7 74.5 64.1 53.  50.8]\n"
     ]
    }
   ],
   "source": [
    "max_temp = np.amax(temp, axis=0)\n",
    "print(max_temp[1:13])"
   ]
  },
  {
   "cell_type": "code",
   "execution_count": 18,
   "metadata": {},
   "outputs": [
    {
     "name": "stdout",
     "output_type": "stream",
     "text": [
      "[33.33333333 35.65714286 42.97142857 53.7        63.1047619  71.84761905\n",
      " 77.32380952 76.2        69.55238095 58.04761905 48.13809524 38.75238095]\n"
     ]
    }
   ],
   "source": [
    "mean_temp = np.mean(temp, axis=0)\n",
    "print(mean_temp[1:13])"
   ]
  },
  {
   "cell_type": "code",
   "execution_count": 19,
   "metadata": {},
   "outputs": [
    {
     "name": "stdout",
     "output_type": "stream",
     "text": [
      "[24.7 23.9 37.7 49.5 58.7 67.5 72.3 72.7 66.  55.  43.9 31.1]\n"
     ]
    }
   ],
   "source": [
    "min_temp = np.min(temp, axis=0)\n",
    "print(min_temp[1:13])"
   ]
  },
  {
   "cell_type": "code",
   "execution_count": 20,
   "metadata": {},
   "outputs": [
    {
     "name": "stdout",
     "output_type": "stream",
     "text": [
      "[4.36919229 4.40568587 3.64876272 2.33319727 2.48451896 1.66236179\n",
      " 2.52301874 1.98182215 2.10070715 2.42263514 3.13391223 4.28859163]\n"
     ]
    }
   ],
   "source": [
    "std_temp = np.std(temp, axis=0)\n",
    "print(std_temp[1:13])"
   ]
  },
  {
   "cell_type": "markdown",
   "metadata": {},
   "source": [
    "Question 2: Find out the mean and standard deviation of monthly temperature for each month"
   ]
  },
  {
   "cell_type": "code",
   "execution_count": null,
   "metadata": {},
   "outputs": [],
   "source": []
  },
  {
   "cell_type": "markdown",
   "metadata": {},
   "source": [
    "Question 3: Find the years and months when monthly temperature greater > 80 degrees F"
   ]
  },
  {
   "cell_type": "code",
   "execution_count": null,
   "metadata": {},
   "outputs": [],
   "source": []
  },
  {
   "cell_type": "markdown",
   "metadata": {},
   "source": [
    "Question 4: Find the years and monthswhen monthly temperature less than < 32 degrees F"
   ]
  },
  {
   "cell_type": "code",
   "execution_count": null,
   "metadata": {},
   "outputs": [],
   "source": []
  }
 ],
 "metadata": {
  "kernelspec": {
   "display_name": "Python 3.9.7 ('base')",
   "language": "python",
   "name": "python3"
  },
  "language_info": {
   "codemirror_mode": {
    "name": "ipython",
    "version": 3
   },
   "file_extension": ".py",
   "mimetype": "text/x-python",
   "name": "python",
   "nbconvert_exporter": "python",
   "pygments_lexer": "ipython3",
   "version": "3.9.7"
  },
  "orig_nbformat": 4,
  "vscode": {
   "interpreter": {
    "hash": "11f7167e9fb7097b41d1b380143e3830871c5fcf1bf72bd60637d42710c8e408"
   }
  }
 },
 "nbformat": 4,
 "nbformat_minor": 2
}
