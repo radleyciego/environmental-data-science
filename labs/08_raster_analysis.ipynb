{
 "cells": [
  {
   "cell_type": "markdown",
   "metadata": {},
   "source": [
    "<br> Radley Ciego </br>\n",
    "<br> GTECH 78518: Environmental Data Science </br>\n",
    "<br> November 15, 2022 </br>\n",
    "<br> Homework #8 </br>"
   ]
  },
  {
   "cell_type": "code",
   "execution_count": null,
   "metadata": {},
   "outputs": [],
   "source": [
    "# import libraries\n",
    "from glob import glob\n",
    "import os\n",
    "import urllib\n",
    "\n",
    "import rasterio as rio\n",
    "from rasterio.plot import show\n",
    "import xarray as xr\n",
    "import rioxarray as rxr\n",
    "\n",
    "import numpy as np\n",
    "import matplotlib.pyplot as plt\n",
    "%matplotlib inline"
   ]
  },
  {
   "cell_type": "code",
   "execution_count": null,
   "metadata": {},
   "outputs": [],
   "source": [
    "os.chdir('/Users/radleyciego/GitHub/environmental-data-science/data/LC08_L1TP_020050_20211226_20220106_01_T1')\n",
    "os.getcwd"
   ]
  },
  {
   "cell_type": "code",
   "execution_count": null,
   "metadata": {},
   "outputs": [],
   "source": [
    "# create local directory to store images\n",
    "imgdir = '/Users/radleyciego/GitHub/environmental-data-science/data/LC08_L1TP_020050_20211226_20220106_01_T1'\n",
    "img_id = 'LC08_L1TP_020050_20211226_20220106_01_T1'\n",
    "img = img_id"
   ]
  },
  {
   "cell_type": "code",
   "execution_count": null,
   "metadata": {},
   "outputs": [],
   "source": [
    "fn = os.path.join(imgdir, img+'_B4.TIF')\n",
    "print(fn)"
   ]
  },
  {
   "cell_type": "code",
   "execution_count": null,
   "metadata": {},
   "outputs": [],
   "source": [
    "!gdalinfo $fn"
   ]
  },
  {
   "cell_type": "code",
   "execution_count": null,
   "metadata": {},
   "outputs": [],
   "source": [
    "# specify filename for different bands we will need for the lab\n",
    "b4_fn = os.path.join(imgdir, img+'_B4.TIF')\n",
    "b5_fn = os.path.join(imgdir, img+'_B5.TIF')"
   ]
  },
  {
   "cell_type": "code",
   "execution_count": null,
   "metadata": {},
   "outputs": [],
   "source": [
    "with rio.open(b4_fn) as src:\n",
    "    print(src.profile)"
   ]
  },
  {
   "cell_type": "code",
   "execution_count": null,
   "metadata": {},
   "outputs": [],
   "source": [
    "with rio.open(b5_fn) as src:\n",
    "    print(src.profile)"
   ]
  },
  {
   "cell_type": "code",
   "execution_count": null,
   "metadata": {},
   "outputs": [],
   "source": [
    "b4 = rio.open(b4_fn)\n",
    "b5 = rio.open(b5_fn)"
   ]
  },
  {
   "cell_type": "code",
   "execution_count": null,
   "metadata": {},
   "outputs": [],
   "source": [
    "type(b4)"
   ]
  },
  {
   "cell_type": "code",
   "execution_count": null,
   "metadata": {},
   "outputs": [],
   "source": [
    "b4.profile"
   ]
  },
  {
   "cell_type": "code",
   "execution_count": null,
   "metadata": {},
   "outputs": [],
   "source": [
    "fig, (ax1, ax2) = plt.subplots(ncols=2, nrows=1, figsize=(20,20), sharey=True)\n",
    "\n",
    "# plot 2 bands\n",
    "show(b4, ax=ax1)\n",
    "show(b5, ax=ax2)\n",
    "\n",
    "# add titles\n",
    "ax1.set_title(\"Band4\")\n",
    "ax2.set_title(\"Band5\")"
   ]
  },
  {
   "cell_type": "code",
   "execution_count": null,
   "metadata": {},
   "outputs": [],
   "source": [
    "b5_np = b5.read(1).astype(float)/1000\n",
    "b4_np = b4.read(1).astype(float)/1000\n",
    "ndvi = (b5_np-b4_np)/(b5_np+b4_np)\n",
    "fig = plt.subplots(figsize=(20, 20), sharey=True)\n",
    "plt.imshow(ndvi)\n",
    "plt.colorbar()"
   ]
  }
 ],
 "metadata": {
  "kernelspec": {
   "display_name": "Python 3.9.13 ('vs-code')",
   "language": "python",
   "name": "python3"
  },
  "language_info": {
   "codemirror_mode": {
    "name": "ipython",
    "version": 3
   },
   "file_extension": ".py",
   "mimetype": "text/x-python",
   "name": "python",
   "nbconvert_exporter": "python",
   "pygments_lexer": "ipython3",
   "version": "3.9.13"
  },
  "orig_nbformat": 4,
  "vscode": {
   "interpreter": {
    "hash": "2abedac9a2791d8df6d838be47db7ad938852d773a530686b10032c9283645e2"
   }
  }
 },
 "nbformat": 4,
 "nbformat_minor": 2
}
