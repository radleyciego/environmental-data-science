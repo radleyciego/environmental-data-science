{
 "cells": [
  {
   "cell_type": "code",
   "execution_count": 4,
   "metadata": {},
   "outputs": [],
   "source": [
    "import pandas as pd\n",
    "import os\n"
   ]
  },
  {
   "cell_type": "code",
   "execution_count": 6,
   "metadata": {},
   "outputs": [
    {
     "data": {
      "text/plain": [
       "'/Users/radleyciego/GitHub/environmental-data-science/labs'"
      ]
     },
     "execution_count": 6,
     "metadata": {},
     "output_type": "execute_result"
    }
   ],
   "source": [
    "cwd = os.getcwd()\n",
    "cwd"
   ]
  },
  {
   "cell_type": "code",
   "execution_count": 10,
   "metadata": {},
   "outputs": [],
   "source": [
    "os.chdir('/Users/radleyciego/GitHub/environmental-data-science/data/')"
   ]
  },
  {
   "cell_type": "code",
   "execution_count": 12,
   "metadata": {},
   "outputs": [],
   "source": [
    "TempF = pd.read_csv('CPannualT.csv',skiprows=1)"
   ]
  },
  {
   "cell_type": "markdown",
   "metadata": {},
   "source": [
    "Question 1: Print the DataFrame data type and data values"
   ]
  },
  {
   "cell_type": "code",
   "execution_count": 18,
   "metadata": {},
   "outputs": [
    {
     "name": "stdout",
     "output_type": "stream",
     "text": [
      "YEAR        int64\n",
      "JAN       float64\n",
      "FEB       float64\n",
      "MAR       float64\n",
      "APR       float64\n",
      "MAY       float64\n",
      "JUN       float64\n",
      "JUL       float64\n",
      "AUG       float64\n",
      "SEP       float64\n",
      "OCT       float64\n",
      "NOV       float64\n",
      "DEC       float64\n",
      "ANNUAL    float64\n",
      "dtype: object\n",
      "[[2000.    31.3   37.3   47.2   51.    63.5   71.3   72.3   72.7   66.\n",
      "    57.    45.3   31.1   53.9]\n",
      " [2001.    33.6   35.9   39.6   54.2   63.8   72.9   73.2   78.7   67.7\n",
      "    58.5   52.7   44.1   56.3]\n",
      " [2002.    39.9   40.6   44.1   56.1   60.7   71.4   78.8   77.7   70.2\n",
      "    55.2   46.    36.    56.4]\n",
      " [2003.    27.5   30.1   43.1   49.8   58.7   68.3   75.8   76.7   67.9\n",
      "    55.1   50.    37.6   53.4]\n",
      " [2004.    24.7   35.    43.5   53.6   65.2   71.2   74.5   74.2   69.3\n",
      "    56.    48.2   38.4   54.5]\n",
      " [2005.    31.3   36.5   39.4   55.1   58.9   74.    77.5   79.7   73.3\n",
      "    57.9   49.6   35.3   55.8]\n",
      " [2006.    40.9   35.7   43.1   55.7   63.1   71.    77.9   75.8   66.6\n",
      "    56.2   51.9   43.6   56.8]\n",
      " [2007.    37.5   28.2   42.2   50.3   65.2   71.4   75.    74.    70.3\n",
      "    63.6   45.4   37.    55. ]\n",
      " [2008.    36.5   35.8   42.6   54.9   60.1   74.    78.4   73.8   68.8\n",
      "    55.1   45.8   38.1   55.3]\n",
      " [2009.    27.9   36.7   42.4   54.5   62.5   67.5   72.7   75.7   66.3\n",
      "    55.    51.2   35.9   54. ]\n",
      " [2010.    32.5   33.1   48.2   57.9   65.3   74.7   81.3   77.4   71.1\n",
      "    58.1   47.9   32.8   56.7]\n",
      " [2011.    29.7   36.    42.3   54.3   64.5   72.3   80.2   75.3   70.\n",
      "    57.1   51.9   43.3   56.4]\n",
      " [2012.    37.3   40.9   50.9   54.8   65.1   71.    78.8   76.7   68.8\n",
      "    58.    43.9   41.5   57.3]\n",
      " [2013.    35.1   33.9   40.1   53.    62.8   72.7   79.8   74.6   67.9\n",
      "    60.2   45.3   38.5   55.3]\n",
      " [2014.    28.6   31.6   37.7   52.3   64.    72.5   76.1   74.5   69.7\n",
      "    59.6   45.3   40.5   54.4]\n",
      " [2015.    29.9   23.9   38.1   54.3   68.5   71.2   78.8   79.    74.5\n",
      "    58.    52.8   50.8   56.7]\n",
      " [2016.    34.5   37.7   48.9   53.3   62.8   72.3   78.7   79.2   71.8\n",
      "    58.8   49.8   38.3   57.2]\n",
      " [2017.    38.    41.6   39.2   57.2   61.1   72.    76.8   74.    70.5\n",
      "    64.1   46.6   33.4   56.3]\n",
      " [2018.    31.7   42.    40.1   49.5   66.9   71.7   77.6   78.1   70.7\n",
      "    57.7   44.4   40.1   55.9]\n",
      " [2019.    32.5   36.2   41.7   55.5   62.2   71.7   79.6   75.5   70.4\n",
      "    59.9   43.9   38.3   55.6]\n",
      " [2020.    39.1   40.1   48.    50.4   60.3   73.7   80.    76.9   68.8\n",
      "    57.9   53.    39.2   57.3]]\n"
     ]
    }
   ],
   "source": [
    "print(TempF.dtypes)\n",
    "print(TempF.values)"
   ]
  }
 ],
 "metadata": {
  "kernelspec": {
   "display_name": "Python 3.9.6 64-bit",
   "language": "python",
   "name": "python3"
  },
  "language_info": {
   "codemirror_mode": {
    "name": "ipython",
    "version": 3
   },
   "file_extension": ".py",
   "mimetype": "text/x-python",
   "name": "python",
   "nbconvert_exporter": "python",
   "pygments_lexer": "ipython3",
   "version": "3.9.6"
  },
  "orig_nbformat": 4,
  "vscode": {
   "interpreter": {
    "hash": "31f2aee4e71d21fbe5cf8b01ff0e069b9275f58929596ceb00d14d90e3e16cd6"
   }
  }
 },
 "nbformat": 4,
 "nbformat_minor": 2
}
