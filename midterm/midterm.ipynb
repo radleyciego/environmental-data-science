{
 "cells": [
  {
   "cell_type": "markdown",
   "metadata": {},
   "source": [
    "# Midterm Exam \n",
    "<br> Radley Ciego </br>\n",
    "<br> November 1, 2022 </br>\n",
    "<br> GTECH 78518: Environmental Data Science </br>"
   ]
  },
  {
   "cell_type": "markdown",
   "metadata": {},
   "source": [
    "<b> Resesarch Question: </b> What impact, if any, did the MillionTreesNYC initiative have on air quality in New York City?"
   ]
  },
  {
   "cell_type": "code",
   "execution_count": 6,
   "metadata": {},
   "outputs": [],
   "source": [
    "import pandas as pd\n",
    "import numpy as np\n",
    "import pdb\n",
    "import matplotlib.pyplot as plt"
   ]
  },
  {
   "cell_type": "markdown",
   "metadata": {},
   "source": [
    "## Data Processing"
   ]
  },
  {
   "cell_type": "code",
   "execution_count": 9,
   "metadata": {},
   "outputs": [],
   "source": [
    "# read the site listing data - https://aqs.epa.gov/aqsweb/airdata/download_files.html#AQI   \n",
    "airquality = pd.read_csv('https://aqs.epa.gov/aqsweb/airdata/aqs_sites.zip')"
   ]
  },
  {
   "cell_type": "code",
   "execution_count": 10,
   "metadata": {},
   "outputs": [
    {
     "data": {
      "text/html": [
       "<div>\n",
       "<style scoped>\n",
       "    .dataframe tbody tr th:only-of-type {\n",
       "        vertical-align: middle;\n",
       "    }\n",
       "\n",
       "    .dataframe tbody tr th {\n",
       "        vertical-align: top;\n",
       "    }\n",
       "\n",
       "    .dataframe thead th {\n",
       "        text-align: right;\n",
       "    }\n",
       "</style>\n",
       "<table border=\"1\" class=\"dataframe\">\n",
       "  <thead>\n",
       "    <tr style=\"text-align: right;\">\n",
       "      <th></th>\n",
       "      <th>State Code</th>\n",
       "      <th>County Code</th>\n",
       "      <th>Site Number</th>\n",
       "      <th>Latitude</th>\n",
       "      <th>Longitude</th>\n",
       "      <th>Datum</th>\n",
       "      <th>Elevation</th>\n",
       "      <th>Land Use</th>\n",
       "      <th>Location Setting</th>\n",
       "      <th>Site Established Date</th>\n",
       "      <th>...</th>\n",
       "      <th>Owning Agency</th>\n",
       "      <th>Local Site Name</th>\n",
       "      <th>Address</th>\n",
       "      <th>Zip Code</th>\n",
       "      <th>State Name</th>\n",
       "      <th>County Name</th>\n",
       "      <th>City Name</th>\n",
       "      <th>CBSA Name</th>\n",
       "      <th>Tribe Name</th>\n",
       "      <th>Extraction Date</th>\n",
       "    </tr>\n",
       "  </thead>\n",
       "  <tbody>\n",
       "    <tr>\n",
       "      <th>0</th>\n",
       "      <td>01</td>\n",
       "      <td>1</td>\n",
       "      <td>1</td>\n",
       "      <td>32.437458</td>\n",
       "      <td>-86.472891</td>\n",
       "      <td>WGS84</td>\n",
       "      <td>64.0</td>\n",
       "      <td>RESIDENTIAL</td>\n",
       "      <td>SUBURBAN</td>\n",
       "      <td>1974-05-01</td>\n",
       "      <td>...</td>\n",
       "      <td>Al Dept Of Env Mgt</td>\n",
       "      <td>NaN</td>\n",
       "      <td>KING ARTHUR TRAILER COURT, PRATTVILLE,AL</td>\n",
       "      <td>36067.0</td>\n",
       "      <td>Alabama</td>\n",
       "      <td>Autauga</td>\n",
       "      <td>Prattville</td>\n",
       "      <td>Montgomery, AL</td>\n",
       "      <td>NaN</td>\n",
       "      <td>2022-06-02</td>\n",
       "    </tr>\n",
       "    <tr>\n",
       "      <th>1</th>\n",
       "      <td>01</td>\n",
       "      <td>1</td>\n",
       "      <td>2</td>\n",
       "      <td>32.428470</td>\n",
       "      <td>-86.443585</td>\n",
       "      <td>WGS84</td>\n",
       "      <td>0.0</td>\n",
       "      <td>AGRICULTURAL</td>\n",
       "      <td>RURAL</td>\n",
       "      <td>1980-01-01</td>\n",
       "      <td>...</td>\n",
       "      <td>Al Dept Of Env Mgt</td>\n",
       "      <td>NaN</td>\n",
       "      <td>COUNTY RD 4 PRATTVILLE EXPERIMENT ST</td>\n",
       "      <td>NaN</td>\n",
       "      <td>Alabama</td>\n",
       "      <td>Autauga</td>\n",
       "      <td>Prattville</td>\n",
       "      <td>Montgomery, AL</td>\n",
       "      <td>NaN</td>\n",
       "      <td>2022-06-02</td>\n",
       "    </tr>\n",
       "    <tr>\n",
       "      <th>2</th>\n",
       "      <td>01</td>\n",
       "      <td>1</td>\n",
       "      <td>3</td>\n",
       "      <td>32.332659</td>\n",
       "      <td>-86.791521</td>\n",
       "      <td>WGS84</td>\n",
       "      <td>41.0</td>\n",
       "      <td>FOREST</td>\n",
       "      <td>RURAL</td>\n",
       "      <td>1989-08-31</td>\n",
       "      <td>...</td>\n",
       "      <td>Al Dept Of Env Mgt</td>\n",
       "      <td>NaN</td>\n",
       "      <td>1170 COUNTY RD.15 SO., SELMA, AL. 36701</td>\n",
       "      <td>36003.0</td>\n",
       "      <td>Alabama</td>\n",
       "      <td>Autauga</td>\n",
       "      <td>Not in a City</td>\n",
       "      <td>Montgomery, AL</td>\n",
       "      <td>NaN</td>\n",
       "      <td>2022-06-02</td>\n",
       "    </tr>\n",
       "    <tr>\n",
       "      <th>3</th>\n",
       "      <td>01</td>\n",
       "      <td>3</td>\n",
       "      <td>1</td>\n",
       "      <td>0.000000</td>\n",
       "      <td>0.000000</td>\n",
       "      <td>NAD27</td>\n",
       "      <td>0.0</td>\n",
       "      <td>UNKNOWN</td>\n",
       "      <td>RURAL</td>\n",
       "      <td>1959-01-01</td>\n",
       "      <td>...</td>\n",
       "      <td>US EPA National Exposure Research Lab</td>\n",
       "      <td>NaN</td>\n",
       "      <td>CHANDLER RESIDENCE FT MORGAN STATE PARK</td>\n",
       "      <td>NaN</td>\n",
       "      <td>Alabama</td>\n",
       "      <td>Baldwin</td>\n",
       "      <td>Not in a city</td>\n",
       "      <td>Daphne-Fairhope-Foley, AL</td>\n",
       "      <td>NaN</td>\n",
       "      <td>2022-06-02</td>\n",
       "    </tr>\n",
       "    <tr>\n",
       "      <th>4</th>\n",
       "      <td>01</td>\n",
       "      <td>3</td>\n",
       "      <td>2</td>\n",
       "      <td>30.552367</td>\n",
       "      <td>-87.706911</td>\n",
       "      <td>WGS84</td>\n",
       "      <td>0.0</td>\n",
       "      <td>COMMERCIAL</td>\n",
       "      <td>RURAL</td>\n",
       "      <td>1974-01-01</td>\n",
       "      <td>...</td>\n",
       "      <td>Al Dept Of Env Mgt</td>\n",
       "      <td>NaN</td>\n",
       "      <td>COR PENNSYLVANIA &amp; CHICAGO (ROBERTSDALE)</td>\n",
       "      <td>36567.0</td>\n",
       "      <td>Alabama</td>\n",
       "      <td>Baldwin</td>\n",
       "      <td>Robertsdale</td>\n",
       "      <td>Daphne-Fairhope-Foley, AL</td>\n",
       "      <td>NaN</td>\n",
       "      <td>2022-06-02</td>\n",
       "    </tr>\n",
       "  </tbody>\n",
       "</table>\n",
       "<p>5 rows × 28 columns</p>\n",
       "</div>"
      ],
      "text/plain": [
       "  State Code  County Code  Site Number   Latitude  Longitude  Datum  \\\n",
       "0         01            1            1  32.437458 -86.472891  WGS84   \n",
       "1         01            1            2  32.428470 -86.443585  WGS84   \n",
       "2         01            1            3  32.332659 -86.791521  WGS84   \n",
       "3         01            3            1   0.000000   0.000000  NAD27   \n",
       "4         01            3            2  30.552367 -87.706911  WGS84   \n",
       "\n",
       "   Elevation      Land Use Location Setting Site Established Date  ...  \\\n",
       "0       64.0   RESIDENTIAL         SUBURBAN            1974-05-01  ...   \n",
       "1        0.0  AGRICULTURAL            RURAL            1980-01-01  ...   \n",
       "2       41.0        FOREST            RURAL            1989-08-31  ...   \n",
       "3        0.0       UNKNOWN            RURAL            1959-01-01  ...   \n",
       "4        0.0    COMMERCIAL            RURAL            1974-01-01  ...   \n",
       "\n",
       "                           Owning Agency  Local Site Name  \\\n",
       "0                     Al Dept Of Env Mgt              NaN   \n",
       "1                     Al Dept Of Env Mgt              NaN   \n",
       "2                     Al Dept Of Env Mgt              NaN   \n",
       "3  US EPA National Exposure Research Lab              NaN   \n",
       "4                     Al Dept Of Env Mgt              NaN   \n",
       "\n",
       "                                    Address  Zip Code State Name  County Name  \\\n",
       "0  KING ARTHUR TRAILER COURT, PRATTVILLE,AL   36067.0    Alabama      Autauga   \n",
       "1      COUNTY RD 4 PRATTVILLE EXPERIMENT ST       NaN    Alabama      Autauga   \n",
       "2   1170 COUNTY RD.15 SO., SELMA, AL. 36701   36003.0    Alabama      Autauga   \n",
       "3   CHANDLER RESIDENCE FT MORGAN STATE PARK       NaN    Alabama      Baldwin   \n",
       "4  COR PENNSYLVANIA & CHICAGO (ROBERTSDALE)   36567.0    Alabama      Baldwin   \n",
       "\n",
       "       City Name                  CBSA Name Tribe Name Extraction Date  \n",
       "0     Prattville             Montgomery, AL        NaN      2022-06-02  \n",
       "1     Prattville             Montgomery, AL        NaN      2022-06-02  \n",
       "2  Not in a City             Montgomery, AL        NaN      2022-06-02  \n",
       "3  Not in a city  Daphne-Fairhope-Foley, AL        NaN      2022-06-02  \n",
       "4    Robertsdale  Daphne-Fairhope-Foley, AL        NaN      2022-06-02  \n",
       "\n",
       "[5 rows x 28 columns]"
      ]
     },
     "execution_count": 10,
     "metadata": {},
     "output_type": "execute_result"
    }
   ],
   "source": [
    "# preview airquality data\n",
    "airquality.head()"
   ]
  },
  {
   "cell_type": "code",
   "execution_count": 8,
   "metadata": {},
   "outputs": [
    {
     "name": "stderr",
     "output_type": "stream",
     "text": [
      "/var/folders/ff/9n9lg70d5d79jcc1pfmzhbsc0000gn/T/ipykernel_2331/223033372.py:3: DtypeWarning: Columns (37) have mixed types. Specify dtype option on import or set low_memory=False.\n",
      "  tree05 = pd.read_csv('http://www.geography.hunter.cuny.edu/~wenge/EDS2022F/data/NYCtree/2005_Street_Tree_Census.csv')\n"
     ]
    }
   ],
   "source": [
    "# read the tree census data\n",
    "tree15 = pd.read_csv('http://www.geography.hunter.cuny.edu/~wenge/EDS2022F/data/NYCtree/2015_Street_Tree_Census.csv')\n",
    "tree05 = pd.read_csv('http://www.geography.hunter.cuny.edu/~wenge/EDS2022F/data/NYCtree/2005_Street_Tree_Census.csv')\n",
    "tree95 = pd.read_csv('http://www.geography.hunter.cuny.edu/~wenge/EDS2022F/data/NYCtree/1995_Street_Tree_Census.csv')"
   ]
  },
  {
   "cell_type": "code",
   "execution_count": null,
   "metadata": {},
   "outputs": [],
   "source": [
    "# preview tree data\n",
    "tree95.head()"
   ]
  },
  {
   "cell_type": "code",
   "execution_count": null,
   "metadata": {},
   "outputs": [],
   "source": [
    "# preview tree data\n",
    "tree05.head()"
   ]
  },
  {
   "cell_type": "code",
   "execution_count": null,
   "metadata": {},
   "outputs": [],
   "source": [
    "# preview tree data\n",
    "tree15.head()"
   ]
  }
 ],
 "metadata": {
  "kernelspec": {
   "display_name": "Python 3.9.1 64-bit",
   "language": "python",
   "name": "python3"
  },
  "language_info": {
   "codemirror_mode": {
    "name": "ipython",
    "version": 3
   },
   "file_extension": ".py",
   "mimetype": "text/x-python",
   "name": "python",
   "nbconvert_exporter": "python",
   "pygments_lexer": "ipython3",
   "version": "3.9.1"
  },
  "orig_nbformat": 4,
  "vscode": {
   "interpreter": {
    "hash": "aee8b7b246df8f9039afb4144a1f6fd8d2ca17a180786b69acc140d282b71a49"
   }
  }
 },
 "nbformat": 4,
 "nbformat_minor": 2
}
