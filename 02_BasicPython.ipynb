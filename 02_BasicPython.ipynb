{
 "cells": [
  {
   "cell_type": "markdown",
   "id": "bd242c5f",
   "metadata": {},
   "source": [
    "# Homework 2\n",
    "Radley Ciego\n",
    "September 20, 2022\n",
    "GTECH 78518: Environmental Data Science"
   ]
  },
  {
   "cell_type": "markdown",
   "id": "3c08a110",
   "metadata": {},
   "source": [
    "## Excercise 1"
   ]
  },
  {
   "cell_type": "code",
   "execution_count": 5,
   "id": "efab257c",
   "metadata": {},
   "outputs": [],
   "source": [
    "precip = 4.83"
   ]
  },
  {
   "cell_type": "code",
   "execution_count": 6,
   "id": "817b56ae",
   "metadata": {},
   "outputs": [
    {
     "name": "stdout",
     "output_type": "stream",
     "text": [
      "4.83\n"
     ]
    }
   ],
   "source": [
    " print(precip)"
   ]
  },
  {
   "cell_type": "code",
   "execution_count": 7,
   "id": "3a27def4",
   "metadata": {},
   "outputs": [],
   "source": [
    "# define string using '' or \"\"\n",
    "city = 'New York'"
   ]
  },
  {
   "cell_type": "code",
   "execution_count": 8,
   "id": "b246a4ad",
   "metadata": {},
   "outputs": [
    {
     "name": "stdout",
     "output_type": "stream",
     "text": [
      "New York\n"
     ]
    }
   ],
   "source": [
    "print(city)"
   ]
  },
  {
   "cell_type": "code",
   "execution_count": 9,
   "id": "97fbdbbd",
   "metadata": {},
   "outputs": [
    {
     "name": "stdout",
     "output_type": "stream",
     "text": [
      "<class 'float'>\n",
      "<class 'str'>\n"
     ]
    }
   ],
   "source": [
    "print(type(precip))\n",
    "print(type(city))"
   ]
  },
  {
   "cell_type": "code",
   "execution_count": 10,
   "id": "13900591",
   "metadata": {},
   "outputs": [],
   "source": [
    "x = str(3) # x will be '3'\n",
    "y = int(3) # y will be 3\n",
    "z = float(3) # z will be 3.0"
   ]
  },
  {
   "cell_type": "code",
   "execution_count": 11,
   "id": "e8094ef0",
   "metadata": {},
   "outputs": [
    {
     "name": "stdout",
     "output_type": "stream",
     "text": [
      "3\n",
      "3\n",
      "3.0\n"
     ]
    }
   ],
   "source": [
    "print(x)\n",
    "print(y)\n",
    "print(z)"
   ]
  },
  {
   "cell_type": "code",
   "execution_count": 12,
   "id": "d7ffa779",
   "metadata": {},
   "outputs": [
    {
     "name": "stdout",
     "output_type": "stream",
     "text": [
      "x =  Apple\n",
      "y =  Apple\n",
      "z =  Apple\n"
     ]
    }
   ],
   "source": [
    "x = y= z = 'Apple'\n",
    "print('x = ', x)\n",
    "print('y = ', y)\n",
    "print('z = ', z)"
   ]
  },
  {
   "cell_type": "code",
   "execution_count": 13,
   "id": "9f2bf5d9",
   "metadata": {},
   "outputs": [
    {
     "data": {
      "text/plain": [
       "14"
      ]
     },
     "execution_count": 13,
     "metadata": {},
     "output_type": "execute_result"
    }
   ],
   "source": [
    "# Create variables and run arithgmetic calculations\n",
    "a = 4\n",
    "b = 10\n",
    "a + b"
   ]
  },
  {
   "cell_type": "code",
   "execution_count": 14,
   "id": "c4722b87",
   "metadata": {},
   "outputs": [
    {
     "data": {
      "text/plain": [
       "6"
      ]
     },
     "execution_count": 14,
     "metadata": {},
     "output_type": "execute_result"
    }
   ],
   "source": [
    "b-a"
   ]
  },
  {
   "cell_type": "code",
   "execution_count": 15,
   "id": "1458cbe3",
   "metadata": {},
   "outputs": [
    {
     "data": {
      "text/plain": [
       "40"
      ]
     },
     "execution_count": 15,
     "metadata": {},
     "output_type": "execute_result"
    }
   ],
   "source": [
    "b*a"
   ]
  },
  {
   "cell_type": "code",
   "execution_count": 16,
   "id": "627db4be",
   "metadata": {},
   "outputs": [
    {
     "data": {
      "text/plain": [
       "2.5"
      ]
     },
     "execution_count": 16,
     "metadata": {},
     "output_type": "execute_result"
    }
   ],
   "source": [
    "b/a"
   ]
  },
  {
   "cell_type": "code",
   "execution_count": 17,
   "id": "7bc36174",
   "metadata": {},
   "outputs": [
    {
     "name": "stdout",
     "output_type": "stream",
     "text": [
      "8\n"
     ]
    }
   ],
   "source": [
    "# You can assign values to an existing variables as part of an arithmetic operation\n",
    "a = 5\n",
    "b = 3\n",
    "a = a + b\n",
    "print(a)"
   ]
  },
  {
   "cell_type": "code",
   "execution_count": 18,
   "id": "4871e274",
   "metadata": {},
   "outputs": [
    {
     "name": "stdout",
     "output_type": "stream",
     "text": [
      "True\n",
      "False\n",
      "False\n"
     ]
    }
   ],
   "source": [
    "# Boolean Values: True or false\n",
    "print(10>9)\n",
    "print(10 == 9)\n",
    "print(10 < 9)"
   ]
  },
  {
   "cell_type": "code",
   "execution_count": 19,
   "id": "b83cf74c",
   "metadata": {},
   "outputs": [],
   "source": [
    "a = 200\n",
    "b = 33"
   ]
  },
  {
   "cell_type": "code",
   "execution_count": 20,
   "id": "62320616",
   "metadata": {},
   "outputs": [
    {
     "name": "stdout",
     "output_type": "stream",
     "text": [
      "b is not greater than a\n"
     ]
    }
   ],
   "source": [
    "if b > a:\n",
    "    print(\"b is greater than a\")\n",
    "else:\n",
    "    print(\"b is not greater than a\")"
   ]
  },
  {
   "cell_type": "code",
   "execution_count": 21,
   "id": "697e7ebc",
   "metadata": {},
   "outputs": [
    {
     "name": "stdout",
     "output_type": "stream",
     "text": [
      "True\n",
      "True\n",
      "False\n",
      "False\n",
      "False\n",
      "False\n",
      "False\n",
      "False\n",
      "False\n"
     ]
    }
   ],
   "source": [
    "print(bool(\"Hello\"))\n",
    "print(bool(15))\n",
    "print(bool(False))\n",
    "print(bool(None))\n",
    "print(bool(0))\n",
    "print(bool(\"\"))\n",
    "print(bool(()))\n",
    "print(bool({}))\n",
    "print(bool([]))"
   ]
  },
  {
   "cell_type": "code",
   "execution_count": 22,
   "id": "01c419e4",
   "metadata": {},
   "outputs": [],
   "source": [
    "jan = 4.83\n",
    "feb = 2.48\n",
    "mar = 5.25\n",
    "apr = 3.24\n",
    "may =  6.38\n",
    "june = 4.67\n",
    "july = 4.19\n",
    "aug = 3.34\n",
    "sept = 2.00\n",
    "octo = 4.18\n",
    "nov = 1.58\n",
    "dec = 2.21"
   ]
  },
  {
   "cell_type": "code",
   "execution_count": 23,
   "id": "36c675b8",
   "metadata": {},
   "outputs": [],
   "source": [
    "jan = jan * 25.4"
   ]
  },
  {
   "cell_type": "code",
   "execution_count": 24,
   "id": "f183e144",
   "metadata": {},
   "outputs": [],
   "source": [
    "feb = feb * 25.4"
   ]
  },
  {
   "cell_type": "code",
   "execution_count": 25,
   "id": "a02e6ea4",
   "metadata": {},
   "outputs": [],
   "source": [
    "mar = mar * 25.4"
   ]
  },
  {
   "cell_type": "code",
   "execution_count": 26,
   "id": "1e84765d",
   "metadata": {},
   "outputs": [],
   "source": [
    "apr = apr * 25.4"
   ]
  },
  {
   "cell_type": "code",
   "execution_count": 27,
   "id": "4d5b03ab",
   "metadata": {},
   "outputs": [],
   "source": [
    "may = may * 25.4"
   ]
  },
  {
   "cell_type": "code",
   "execution_count": 28,
   "id": "6fb5d647",
   "metadata": {},
   "outputs": [],
   "source": [
    "june = june * 25.4"
   ]
  },
  {
   "cell_type": "code",
   "execution_count": 29,
   "id": "ce22ff0f",
   "metadata": {},
   "outputs": [],
   "source": [
    "july = july * 25.4"
   ]
  },
  {
   "cell_type": "code",
   "execution_count": 30,
   "id": "000e34fe",
   "metadata": {},
   "outputs": [],
   "source": [
    "aug = aug * 25.4"
   ]
  },
  {
   "cell_type": "code",
   "execution_count": 31,
   "id": "1d2e2260",
   "metadata": {},
   "outputs": [],
   "source": [
    "sept = sept * 25.4"
   ]
  },
  {
   "cell_type": "code",
   "execution_count": 32,
   "id": "7d54c3b8",
   "metadata": {},
   "outputs": [],
   "source": [
    "octo = octo * 25.4"
   ]
  },
  {
   "cell_type": "code",
   "execution_count": 33,
   "id": "b617019e",
   "metadata": {},
   "outputs": [],
   "source": [
    "nov = nov * 25.4"
   ]
  },
  {
   "cell_type": "code",
   "execution_count": 34,
   "id": "06cfcd00",
   "metadata": {},
   "outputs": [],
   "source": [
    "dec = dec * 25.4"
   ]
  },
  {
   "cell_type": "code",
   "execution_count": 35,
   "id": "135142e7",
   "metadata": {},
   "outputs": [
    {
     "name": "stdout",
     "output_type": "stream",
     "text": [
      "122.68199999999999\n",
      "62.992\n",
      "133.35\n",
      "82.296\n",
      "162.052\n",
      "118.618\n",
      "106.426\n",
      "84.836\n",
      "50.8\n",
      "106.17199999999998\n",
      "40.132\n",
      "56.13399999999999\n"
     ]
    }
   ],
   "source": [
    "print(jan)\n",
    "print(feb)\n",
    "print(mar)\n",
    "print(apr)\n",
    "print(may)\n",
    "print(june)\n",
    "print(july)\n",
    "print(aug)\n",
    "print(sept)\n",
    "print(octo)\n",
    "print(nov)\n",
    "print(dec)"
   ]
  },
  {
   "cell_type": "markdown",
   "id": "ff25d141",
   "metadata": {},
   "source": [
    "## Exercise 2"
   ]
  },
  {
   "cell_type": "code",
   "execution_count": 36,
   "id": "3a1de70c",
   "metadata": {},
   "outputs": [
    {
     "name": "stdout",
     "output_type": "stream",
     "text": [
      "25\n",
      "[2, 15, 20, 25]\n"
     ]
    }
   ],
   "source": [
    "# lists can be a set of numbers  \n",
    "dbh = [2,15,20,25] # in inch\n",
    "print(dbh[3])\n",
    "print(dbh[:])"
   ]
  },
  {
   "cell_type": "markdown",
   "id": "06c0fcc1",
   "metadata": {},
   "source": [
    "## Exercise 3"
   ]
  },
  {
   "cell_type": "code",
   "execution_count": 37,
   "id": "edd85b7d",
   "metadata": {},
   "outputs": [
    {
     "name": "stdout",
     "output_type": "stream",
     "text": [
      "Norway Maple\n"
     ]
    }
   ],
   "source": [
    "# list can be a set of strings\n",
    "species = ['Longdon Planetree', 'HoneyLocust', 'Callery Pear', 'Oaks', 'Norway Maple']\n",
    "print(species[-1])"
   ]
  },
  {
   "cell_type": "code",
   "execution_count": 38,
   "id": "3428a00f",
   "metadata": {},
   "outputs": [
    {
     "name": "stdout",
     "output_type": "stream",
     "text": [
      "['Norway Maple', 27]\n"
     ]
    }
   ],
   "source": [
    "# list can be a mix of numbers and strings\n",
    "tree = ['London Planetree', 26, 'HoneyLocust', 20, 'Callery Pear',  5, 'Oaks', 30, 'Norway Maple', 27]\n",
    "print(tree[-2:])"
   ]
  },
  {
   "cell_type": "code",
   "execution_count": 39,
   "id": "3e3046f2",
   "metadata": {},
   "outputs": [
    {
     "name": "stdout",
     "output_type": "stream",
     "text": [
      "append Ginkgo at the end: ['Longdon Planetree', 'HoneyLocust', 'Callery Pear', 'Oaks', 'Norway Maple', 'Ginkgo']\n"
     ]
    }
   ],
   "source": [
    "# list.append(x)\n",
    "# add an iten to the end of the list\n",
    "species.append('Ginkgo')\n",
    "print('append Ginkgo at the end:', species)"
   ]
  },
  {
   "cell_type": "code",
   "execution_count": 40,
   "id": "d854b840",
   "metadata": {},
   "outputs": [
    {
     "name": "stdout",
     "output_type": "stream",
     "text": [
      "after remove Ginko: ['Longdon Planetree', 'HoneyLocust', 'Callery Pear', 'Oaks', 'Norway Maple']\n"
     ]
    }
   ],
   "source": [
    "# list.remove(x)\n",
    "# remove the first item from the list whose value is equal to x. it raises a ValueEttor if ther is no such item.\n",
    "species.remove('Ginkgo')\n",
    "print('after remove Ginko:', species)"
   ]
  },
  {
   "cell_type": "code",
   "execution_count": 41,
   "id": "cf05a873",
   "metadata": {},
   "outputs": [
    {
     "name": "stdout",
     "output_type": "stream",
     "text": [
      "append species Norway Spruce\n"
     ]
    }
   ],
   "source": [
    "species.append('Norway Spruce')\n",
    "print('append species', species[-1])"
   ]
  },
  {
   "cell_type": "code",
   "execution_count": 42,
   "id": "e8a68efb",
   "metadata": {},
   "outputs": [
    {
     "name": "stdout",
     "output_type": "stream",
     "text": [
      "Index of Norway Maple 4\n"
     ]
    }
   ],
   "source": [
    "# list.index(x[,start[,end]])\n",
    "# Return to zero-based index in the list of the first item whose value is equal to x. Raises a ValueError if there is no such item.\n",
    "print('Index of Norway Maple', species.index('Norway Maple'))"
   ]
  },
  {
   "cell_type": "code",
   "execution_count": 43,
   "id": "55d30c3d",
   "metadata": {},
   "outputs": [
    {
     "name": "stdout",
     "output_type": "stream",
     "text": [
      "Count of Oak trees: 0\n",
      "sorted species: ['Callery Pear', 'HoneyLocust', 'Longdon Planetree', 'Norway Maple', 'Norway Spruce', 'Oaks']\n"
     ]
    }
   ],
   "source": [
    "# list.count(x)\n",
    "# return the number of times x\n",
    "print('Count of Oak trees:',species.count('Oak'))\n",
    "\n",
    "# list.sort(*, key=None, reverse=False)\n",
    "# sort the items of the list in place (the arguments can be used for sorted customization, see sorted() for their explanation)\n",
    "species.sort()\n",
    "print('sorted species:', species)"
   ]
  },
  {
   "cell_type": "code",
   "execution_count": 44,
   "id": "ff6275e3",
   "metadata": {},
   "outputs": [
    {
     "name": "stdout",
     "output_type": "stream",
     "text": [
      "Species Reversed: ['Oaks', 'Norway Spruce', 'Norway Maple', 'Longdon Planetree', 'HoneyLocust', 'Callery Pear']\n"
     ]
    }
   ],
   "source": [
    "# list.count(x)\n",
    "# reserve the elements of the list in place.\n",
    "species.reverse()\n",
    "print('Species Reversed:', species)"
   ]
  },
  {
   "cell_type": "code",
   "execution_count": 45,
   "id": "84099e5e",
   "metadata": {},
   "outputs": [
    {
     "name": "stdout",
     "output_type": "stream",
     "text": [
      "copied species: ['Oaks', 'Norway Spruce', 'Norway Maple', 'Longdon Planetree', 'HoneyLocust', 'Callery Pear']\n",
      "copies species after clear: []\n"
     ]
    }
   ],
   "source": [
    "# list.copy()\n",
    "# return a shallow copy of the list. Equivalent to a[:]\n",
    "sp = species.copy()\n",
    "print('copied species:', sp)\n",
    "\n",
    "# list.clear()\n",
    "# remove all items from the list. Equivalent to drl a[:]\n",
    "sp.clear()\n",
    "print('copies species after clear:', sp)"
   ]
  },
  {
   "cell_type": "code",
   "execution_count": 46,
   "id": "ab90ee32",
   "metadata": {},
   "outputs": [
    {
     "name": "stdout",
     "output_type": "stream",
     "text": [
      "(12345, 54321, 'hello!')\n",
      "(12345, 54321, 'hello!', 2, 4, 5)\n",
      "((12345, 54321, 'hello!'), (1, 2, 3))\n",
      "(1, 2, 3)\n",
      "(12345, 54321, 'hello!')\n"
     ]
    }
   ],
   "source": [
    "# a tuple is a collection which is ordered and unchangeable. A tuple consists of a number of values separated by commas\n",
    "# Tuples are ordered, unchangeable, allow duplicates\n",
    "\n",
    "t = (12345, 54321,'hello!')\n",
    "print(t)\n",
    "\n",
    "# join two tuples\n",
    "t1 = (2, 4, 5)\n",
    "print(t+t1)\n",
    "\n",
    "u = t, (1,2,3)\n",
    "print(u)\n",
    "\n",
    "# Access Tuple Items\n",
    "print(u[1])\n",
    "print(u[-2])"
   ]
  },
  {
   "cell_type": "code",
   "execution_count": 47,
   "id": "9e34e3f4",
   "metadata": {},
   "outputs": [
    {
     "name": "stdout",
     "output_type": "stream",
     "text": [
      "<class 'tuple'>\n",
      "<class 'str'>\n",
      "('apple', 'banana', 'cherry', 'apple', 'banana', 'cherry')\n"
     ]
    }
   ],
   "source": [
    "# One item tuple, add the comma in the end\n",
    "thistuple = (\"apple\",)\n",
    "print(type(thistuple))\n",
    "\n",
    "# NOT a tuple\n",
    "thistuple = (\"apple\")\n",
    "print(type(thistuple))\n",
    "\n",
    "# Multiply tuples\n",
    "fruits = (\"apple\", \"banana\", \"cherry\")\n",
    "mytuple = fruits * 2\n",
    "print(mytuple)"
   ]
  },
  {
   "cell_type": "code",
   "execution_count": 48,
   "id": "abd30c2c",
   "metadata": {},
   "outputs": [
    {
     "name": "stdout",
     "output_type": "stream",
     "text": [
      "{'cherry', 'banana', 'apple'}\n",
      "cherry\n",
      "banana\n",
      "apple\n",
      "True\n",
      "{'cherry', 'banana', 'apple'}\n",
      "3\n",
      "<class 'set'>\n"
     ]
    }
   ],
   "source": [
    "# Sets are used to store multiple items in a single variable. A set is a collection which is bnothj unordered and unindexed.\n",
    "# Sets are written with curly brackets\n",
    "\n",
    "thiset = {'apple', 'banana', 'cherry'}\n",
    "print(thiset)\n",
    "\n",
    "# loop through set\n",
    "for x in thiset:\n",
    "    print(x)\n",
    "\n",
    "# check if 'banana' is in the set\n",
    "print('banana' in thiset)\n",
    "\n",
    "# Duplicates not allowed\n",
    "thiset = {'apple', 'banana', 'cherry', 'apple'}\n",
    "print(thiset)\n",
    "\n",
    "# get the length\n",
    "print(len((thiset)))\n",
    "\n",
    "# sets can be any types\n",
    "\n",
    "set1 = {'abc', '34', True, 40, 'male'}\n",
    "print(type(set1))"
   ]
  },
  {
   "cell_type": "code",
   "execution_count": 49,
   "id": "e583a07b",
   "metadata": {},
   "outputs": [
    {
     "name": "stdout",
     "output_type": "stream",
     "text": [
      "cherry\n",
      "banana\n",
      "apple\n",
      "{'cherry', 'banana', 'apple', 'orange'}\n",
      "{'cherry', 'banana', 'orange'}\n"
     ]
    }
   ],
   "source": [
    "# loop through the set, and print the values:\n",
    "for x in thiset:\n",
    "    print(x)\n",
    "    \n",
    "# add() and remove() items\n",
    "thiset.add('orange')\n",
    "print(thiset)\n",
    "\n",
    "thiset.remove('apple')\n",
    "print(thiset)"
   ]
  },
  {
   "cell_type": "code",
   "execution_count": 50,
   "id": "bf48239e",
   "metadata": {},
   "outputs": [
    {
     "name": "stdout",
     "output_type": "stream",
     "text": [
      "{'cherry', 'banana', 'apple'}\n",
      "{'kiwi', 'orange', 'apple'}\n",
      "{'cherry', 'banana', 'apple'}\n",
      "{'banana', 'kiwi', 'cherry', 'orange', 'apple'}\n",
      "{'banana', 'kiwi', 'cherry', 'orange', 'apple'}\n"
     ]
    }
   ],
   "source": [
    "# join sets using union() or update()\n",
    "set1 = {'apple', 'banana', 'cherry', 'apple'}\n",
    "print(set1)\n",
    "set2 = {'orange', 'kiwi', 'apple'}\n",
    "print(set2)\n",
    "set3 = set1.union(set2)\n",
    "print(set1)\n",
    "print(set3)\n",
    "set1.update(set2)\n",
    "print(set1)"
   ]
  },
  {
   "cell_type": "code",
   "execution_count": 51,
   "id": "2a88150b",
   "metadata": {},
   "outputs": [
    {
     "name": "stdout",
     "output_type": "stream",
     "text": [
      "{'bananae', 'cherry', 'apple'}\n",
      "{'kiwi', 'orange', 'apple'}\n",
      "{'bananae', 'cherry', 'apple'}\n",
      "{'apple'}\n",
      "{'apple'}\n"
     ]
    }
   ],
   "source": [
    "# Keep only the duplicates using the intersection_update() method\n",
    "set1 = {'apple','bananae','cherry','apple'}\n",
    "print(set1)\n",
    "set2 = {'orange','kiwi','apple'}\n",
    "print(set2)\n",
    "\n",
    "set3 = set1.intersection(set2)\n",
    "print(set1)\n",
    "print(set3)\n",
    "\n",
    "set1.intersection_update(set2)\n",
    "print(set1)"
   ]
  },
  {
   "cell_type": "code",
   "execution_count": 52,
   "id": "b0ee45b7",
   "metadata": {},
   "outputs": [
    {
     "name": "stdout",
     "output_type": "stream",
     "text": [
      "{'cherry', 'banana', 'apple'}\n",
      "{'kiwi', 'orange', 'apple'}\n",
      "{'kiwi', 'cherry', 'orange', 'banana'}\n"
     ]
    }
   ],
   "source": [
    "# keep all but not the duplicates using the symmetric_difference_update() method, will only keep the elements that are not present in both sets\n",
    "set1 = {'apple','banana','cherry','apple'}\n",
    "print(set1)\n",
    "set2 = {'orange','kiwi','apple'}\n",
    "print(set2)\n",
    "set1.symmetric_difference_update(set2)\n",
    "print(set1)"
   ]
  },
  {
   "cell_type": "code",
   "execution_count": 53,
   "id": "c147625b",
   "metadata": {},
   "outputs": [
    {
     "name": "stdout",
     "output_type": "stream",
     "text": [
      "{'brand': 'Ford', 'model': 'Mustang', 'year': 1964}\n"
     ]
    }
   ],
   "source": [
    "# Dictionaries are used to store data values in key:value pairs. A dictionary is a collection which is ordered, changeable, and does not allow for duplicates.\n",
    "car = {\n",
    "    'brand': 'Ford',\n",
    "    'model': 'Mustang',\n",
    "    'year': 1964\n",
    "}\n",
    "print(car)"
   ]
  },
  {
   "cell_type": "code",
   "execution_count": 54,
   "id": "a90c9203",
   "metadata": {},
   "outputs": [
    {
     "name": "stdout",
     "output_type": "stream",
     "text": [
      "<class 'dict'>\n",
      "{'brand': 'Ford', 'model': 'Mustang', 'year': 1964, 'color': 'blue'}\n",
      "Mustang\n"
     ]
    }
   ],
   "source": [
    "# data type\n",
    "print(type(car))\n",
    "\n",
    "# add items\n",
    "car['color'] = 'blue'\n",
    "print(car)\n",
    "\n",
    "# Get the value of the \"model\" key:\n",
    "x = car['model']\n",
    "print(x)\n",
    "\n",
    "# or use get()\n",
    "x = car.get('model')"
   ]
  },
  {
   "cell_type": "code",
   "execution_count": 55,
   "id": "369499c1",
   "metadata": {},
   "outputs": [
    {
     "name": "stdout",
     "output_type": "stream",
     "text": [
      "dict_values(['Ford', 'Mustang', 1964, 'blue'])\n",
      "dict_values(['Ford', 'Mustang', 1964, 'red'])\n"
     ]
    }
   ],
   "source": [
    "# change values\n",
    "x = car.values()\n",
    "print(x) # before the change\n",
    "car[\"color\"] = \"red\"\n",
    "print(x)"
   ]
  },
  {
   "cell_type": "code",
   "execution_count": 56,
   "id": "e9fa1042",
   "metadata": {},
   "outputs": [
    {
     "name": "stdout",
     "output_type": "stream",
     "text": [
      "26\n",
      "Norway Maple\n",
      "['Norway Maple', 27]\n"
     ]
    }
   ],
   "source": [
    "# exercise 2 - identify and correct the errors in the following code cell\n",
    "# list can be a set of numbers\n",
    "dbh = [2,15,20,26] # in inches\n",
    "print(dbh[3])  # comma separating list values 20 and 26\n",
    "\n",
    "# list can be a set of strings\n",
    "species = ['London Planetree','HoneyLocust','Callery Pear','Oaks','Norway Maple']\n",
    "print(species[-1]) # Double quote opening for HoneyLocust\n",
    "\n",
    "# list can be a mix of numbers and strings\n",
    "tree = ['London Planetree',26,'HoneyLocust',20,'Callery Pear',5,'Oaks',30,'Norway Maple',27]\n",
    "print(tree[-2:])"
   ]
  },
  {
   "cell_type": "code",
   "execution_count": 57,
   "id": "a8808925",
   "metadata": {},
   "outputs": [
    {
     "name": "stdout",
     "output_type": "stream",
     "text": [
      "{'Norway Maple', 'Callery Pear', 'Red Maple', 'London Planetree'}\n",
      "{'Callery Pear', 'Red Maple', 'London Planetree'}\n"
     ]
    }
   ],
   "source": [
    "# exercise 3 - find the most popular tree species in Staten Island in 1995, 2005, and 2015\n",
    "species1995 = {'Silver Maple','Red Maple','Callery Pear','London Planetree','Norway Maple'}\n",
    "species2005 = {'Pin Oak','Norway Maple','Red Maple','London Planetree','Callery Pear'}\n",
    "species2015 = {'Cherry','Pin Oak','Red Maple','London Planetree','Callery Pear'}\n",
    "\n",
    "species2005.intersection_update(species1995)\n",
    "print(species2005)\n",
    "\n",
    "species2005.intersection_update(species2015)\n",
    "print(species2005)"
   ]
  },
  {
   "cell_type": "code",
   "execution_count": 58,
   "id": "766984d5",
   "metadata": {},
   "outputs": [
    {
     "name": "stdout",
     "output_type": "stream",
     "text": [
      "x has a value of 5 which is between (0 10)\n"
     ]
    }
   ],
   "source": [
    "# control flow tools - if statements\n",
    "# create a variable x with the value of 5\n",
    "x = 5\n",
    "\n",
    "# compare the value of x to 0 and 10 and print a message\n",
    "if x <= 0:\n",
    "    print('x has a value of',x,'which is <= 0')\n",
    "elif x <= 10:\n",
    "    print('x has a value of',x,'which is between (0 10)')\n",
    "else:\n",
    "    print('x has a value of',x,'which is not less than 10')"
   ]
  },
  {
   "cell_type": "code",
   "execution_count": 59,
   "id": "4f2c7944",
   "metadata": {},
   "outputs": [
    {
     "name": "stdout",
     "output_type": "stream",
     "text": [
      "x has a value of 25 which is not equal to 35\n"
     ]
    }
   ],
   "source": [
    "# create a variablew x with the value of 25\n",
    "x = 25\n",
    "\n",
    "# compare the value of x to 35 and print a message depending on the outcome of the comparison\n",
    "if x == 35:\n",
    "    print('x has a value of',x,'which is equal to 35')\n",
    "else:\n",
    "    print('x has a value of',x,'which is not equal to 35')"
   ]
  },
  {
   "cell_type": "code",
   "execution_count": 60,
   "id": "000c3558",
   "metadata": {},
   "outputs": [
    {
     "name": "stdout",
     "output_type": "stream",
     "text": [
      "40\n"
     ]
    }
   ],
   "source": [
    "x = 25\n",
    "\n",
    "if x != 35:\n",
    "    x += 15\n",
    "    print(x)\n",
    "else:\n",
    "    print(x)"
   ]
  },
  {
   "cell_type": "code",
   "execution_count": 61,
   "id": "4ac94099",
   "metadata": {},
   "outputs": [
    {
     "name": "stdout",
     "output_type": "stream",
     "text": [
      "Oak is one of the most popular NYC tree species\n"
     ]
    }
   ],
   "source": [
    "species = ['London Planetree', 'HoneyLocust', 'Callery Pear', 'Oak','Norway Maple' ]\n",
    "# check if the text string \"Oak\" is contained within the species list\n",
    "if 'Oak' in species:\n",
    "    print('Oak is one of the most popular NYC tree species')\n",
    "else:\n",
    "    print('Oak is not one of the most popular NYC tree species')"
   ]
  },
  {
   "cell_type": "markdown",
   "id": "eec09be4",
   "metadata": {},
   "source": [
    "## Exercise 4"
   ]
  },
  {
   "cell_type": "code",
   "execution_count": 62,
   "id": "e67a8a9f",
   "metadata": {},
   "outputs": [
    {
     "name": "stdout",
     "output_type": "stream",
     "text": [
      "Oak is one of the most NYV popular tree species\n"
     ]
    }
   ],
   "source": [
    "# exercise 4 - fix the errors in the code\n",
    "species = ['London Planetree', 'HoneyLocust', 'Callery Pear', 'Oak','Norway Maple' ]\n",
    "# check if the text string \"Oak\" in contained within the species list\n",
    "if 'Oak' in species: # colon did not follow list\n",
    "    print('Oak is one of the most NYV popular tree species') # open parenthesis\n",
    "else:\n",
    "    print('Oak is not one of the most NYV popular tree species') # double quote at end of text string"
   ]
  },
  {
   "cell_type": "markdown",
   "id": "19af7dea",
   "metadata": {},
   "source": [
    "## Exercise 5"
   ]
  },
  {
   "cell_type": "code",
   "execution_count": 63,
   "id": "3d2d78b7",
   "metadata": {},
   "outputs": [
    {
     "name": "stdout",
     "output_type": "stream",
     "text": [
      "0\n",
      "1\n",
      "2\n",
      "3\n",
      "4\n",
      "5\n",
      "6\n",
      "7\n",
      "8\n",
      "9\n"
     ]
    }
   ],
   "source": [
    "# control flow tools - loop statements\n",
    "# in python, there are two primary structures for loops: while and for\n",
    "# a while loop is used to iteratively execute code until a certain condition is met\n",
    "\n",
    "x = 0\n",
    "\n",
    "# as long as the value of 'x' is less than '10'\n",
    "# interatively print the value of x and then add '1' to the current value of 'x'\n",
    "while x < 10:\n",
    "    print(x)\n",
    "    x += 1"
   ]
  },
  {
   "cell_type": "code",
   "execution_count": 64,
   "id": "77e1753d",
   "metadata": {},
   "outputs": [
    {
     "name": "stdout",
     "output_type": "stream",
     "text": [
      "0 1 1 2 3 5 8 13 21 34 55 89 "
     ]
    }
   ],
   "source": [
    "# print your answer in one line\n",
    "# end can be used to avoid the newline after the output, or end the output with a different string\n",
    "a,b = 0, 1\n",
    "while a < 100:\n",
    "    print(a, end=' ')\n",
    "    a,b = b, a+b"
   ]
  },
  {
   "cell_type": "code",
   "execution_count": 65,
   "id": "8cbda9d5",
   "metadata": {},
   "outputs": [
    {
     "name": "stdout",
     "output_type": "stream",
     "text": [
      "1\n",
      "2\n",
      "3\n",
      "4\n"
     ]
    }
   ],
   "source": [
    "x = 1\n",
    "\n",
    "# as long as the value of 'x' within a range of '1' to '4', as the range is not inclusive of '5'\n",
    "# iteratively print the value of x and then add '1' to the current value of 'x'\n",
    "while x in range(1,5):\n",
    "    print(x)\n",
    "    x += 1"
   ]
  },
  {
   "cell_type": "code",
   "execution_count": 66,
   "id": "64a07258",
   "metadata": {},
   "outputs": [
    {
     "name": "stdout",
     "output_type": "stream",
     "text": [
      "5\n",
      "10\n",
      "15\n",
      "20\n"
     ]
    }
   ],
   "source": [
    "# for loop\n",
    "numlist = [5, 10, 15, 20]\n",
    "\n",
    "#  for each item in 'numlist', print the item's value\n",
    "for x in numlist:\n",
    "    print(x)"
   ]
  },
  {
   "cell_type": "code",
   "execution_count": 67,
   "id": "543769a0",
   "metadata": {},
   "outputs": [
    {
     "name": "stdout",
     "output_type": "stream",
     "text": [
      "filename1.txt\n",
      "filename2.txt\n"
     ]
    }
   ],
   "source": [
    "# create a list of text strings of filenames\n",
    "filelist = ['filename1.txt', 'filename2.txt']\n",
    "\n",
    "# for each item in 'filelist', print the item's value\n",
    "for filename in filelist:\n",
    "    print(filename)"
   ]
  },
  {
   "cell_type": "code",
   "execution_count": 68,
   "id": "b804ca64",
   "metadata": {},
   "outputs": [
    {
     "name": "stdout",
     "output_type": "stream",
     "text": [
      "0\n",
      "1\n",
      "2\n",
      "3\n",
      "4\n"
     ]
    }
   ],
   "source": [
    "# the range() function\n",
    "# if you do not need to interate over a sequence of numbers, the built-in function range() comes ion handy.\n",
    "# it generates arithmetic progressions:\n",
    "\n",
    "for i in range(5):\n",
    "    print(i)"
   ]
  },
  {
   "cell_type": "code",
   "execution_count": 69,
   "id": "edbd7953",
   "metadata": {},
   "outputs": [
    {
     "name": "stdout",
     "output_type": "stream",
     "text": [
      "3\n",
      "4\n",
      "5\n",
      "6\n",
      "7\n",
      "8\n",
      "9\n",
      "10\n",
      "11\n",
      "12\n",
      "13\n",
      "14\n"
     ]
    }
   ],
   "source": [
    "x = 3\n",
    "\n",
    "while x < 15:\n",
    "    print(x)\n",
    "    x += 1"
   ]
  },
  {
   "cell_type": "code",
   "execution_count": 70,
   "id": "f014822d",
   "metadata": {},
   "outputs": [
    {
     "name": "stdout",
     "output_type": "stream",
     "text": [
      "['apples', 'oranges', 'cherries']\n",
      "['apples', 'oranges', 'cherries']\n",
      "['apples', 'oranges', 'cherries']\n"
     ]
    }
   ],
   "source": [
    "fruit = ['apples','oranges','cherries']\n",
    "\n",
    "for i in fruit:\n",
    "    print(fruit)"
   ]
  },
  {
   "cell_type": "code",
   "execution_count": 71,
   "id": "4d999974",
   "metadata": {},
   "outputs": [
    {
     "name": "stdout",
     "output_type": "stream",
     "text": [
      "17.779999999999998\n",
      "19.049999999999997\n",
      "46.99\n",
      "74.422\n",
      "77.46999999999998\n",
      "51.308\n",
      "49.022\n",
      "41.148\n",
      "46.736\n",
      "33.274\n",
      "35.306\n",
      "21.336\n"
     ]
    }
   ],
   "source": [
    "# create a list  of monthly precipitation\n",
    "p = [0.70, 0.75, 1.85, 2.93, 3.05, 2.02, 1.93, 1.62, 1.84, 1.31, 1.39, 0.84]\n",
    "\n",
    "for i in p:\n",
    "    print(i*25.4)"
   ]
  },
  {
   "cell_type": "markdown",
   "id": "550afc22",
   "metadata": {},
   "source": [
    "## Exercise 6-7"
   ]
  },
  {
   "cell_type": "code",
   "execution_count": 72,
   "id": "31e31770",
   "metadata": {},
   "outputs": [
    {
     "name": "stdout",
     "output_type": "stream",
     "text": [
      "0\n",
      "100000\n",
      "200000\n",
      "300000\n",
      "400000\n",
      "500000\n",
      "600000\n",
      "700000\n",
      "800000\n",
      "900000\n"
     ]
    }
   ],
   "source": [
    "x = 0\n",
    "\n",
    "while x < 1000000:\n",
    "    print(x)\n",
    "    x += 100000"
   ]
  },
  {
   "cell_type": "markdown",
   "id": "a01f9f67",
   "metadata": {},
   "source": [
    "## Exercise 8-9"
   ]
  },
  {
   "cell_type": "code",
   "execution_count": 73,
   "id": "e878d8a2",
   "metadata": {},
   "outputs": [
    {
     "data": {
      "text/plain": [
       "[3.49, 2.46, 1.32, 8.02, 6.43]"
      ]
     },
     "execution_count": 73,
     "metadata": {},
     "output_type": "execute_result"
    }
   ],
   "source": [
    "precip = [3.49, 2.46, 1.32, 8.02]\n",
    "precip += [6.43]\n",
    "precip"
   ]
  }
 ],
 "metadata": {
  "kernelspec": {
   "display_name": "Python 3.9.1 64-bit",
   "language": "python",
   "name": "python3"
  },
  "language_info": {
   "codemirror_mode": {
    "name": "ipython",
    "version": 3
   },
   "file_extension": ".py",
   "mimetype": "text/x-python",
   "name": "python",
   "nbconvert_exporter": "python",
   "pygments_lexer": "ipython3",
   "version": "3.9.1"
  },
  "vscode": {
   "interpreter": {
    "hash": "aee8b7b246df8f9039afb4144a1f6fd8d2ca17a180786b69acc140d282b71a49"
   }
  }
 },
 "nbformat": 4,
 "nbformat_minor": 5
}
